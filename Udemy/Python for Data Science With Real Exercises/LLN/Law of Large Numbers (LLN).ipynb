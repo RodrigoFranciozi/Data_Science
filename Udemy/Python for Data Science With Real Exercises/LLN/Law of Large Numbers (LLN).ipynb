{
 "cells": [
  {
   "cell_type": "markdown",
   "metadata": {},
   "source": [
    "Testing the law of Large numbers for N random normally distributed numbers with mean = 0, stdev = 1\n",
    "\n",
    "Creating a python script that will count how many of these numbers fall between -1 and 1 and divide by the total quantity of N.\n",
    "\n",
    "E(x) = 68.2%\n",
    "Mean(Xn) -> E(X) as the script is rerunned while increasing the value of N."
   ]
  },
  {
   "cell_type": "code",
   "execution_count": 2,
   "metadata": {},
   "outputs": [],
   "source": [
    "import numpy as np\n",
    "from numpy.random import randn"
   ]
  },
  {
   "cell_type": "code",
   "execution_count": 10,
   "metadata": {},
   "outputs": [
    {
     "name": "stdout",
     "output_type": "stream",
     "text": [
      "0.63\n"
     ]
    }
   ],
   "source": [
    "N = 100                     #specific sample size\n",
    "counter = 0                 # reset counter\n",
    "\n",
    "for i in randn(N):          #iterate over random values\n",
    "    if (i > -1 and i < 1):  #check were iterated variable falls\n",
    "        counter += 1        #increase counter if condition is met\n",
    "        \n",
    "answer = counter / N        #calculate hit-ratio\n",
    "\n",
    "print(answer)               #printing the answer"
   ]
  }
 ],
 "metadata": {
  "kernelspec": {
   "display_name": "Python 3",
   "language": "python",
   "name": "python3"
  },
  "language_info": {
   "codemirror_mode": {
    "name": "ipython",
    "version": 3
   },
   "file_extension": ".py",
   "mimetype": "text/x-python",
   "name": "python",
   "nbconvert_exporter": "python",
   "pygments_lexer": "ipython3",
   "version": "3.7.6"
  }
 },
 "nbformat": 4,
 "nbformat_minor": 4
}
