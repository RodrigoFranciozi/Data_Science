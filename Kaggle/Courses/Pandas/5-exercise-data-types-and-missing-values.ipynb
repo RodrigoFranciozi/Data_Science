{
 "cells": [
  {
   "cell_type": "markdown",
   "metadata": {
    "papermill": {
     "duration": 0.018198,
     "end_time": "2020-12-14T18:05:11.337976",
     "exception": false,
     "start_time": "2020-12-14T18:05:11.319778",
     "status": "completed"
    },
    "tags": []
   },
   "source": [
    "**This notebook is an exercise in the [Pandas](https://www.kaggle.com/learn/pandas) course.  You can reference the tutorial at [this link](https://www.kaggle.com/residentmario/data-types-and-missing-values).**\n",
    "\n",
    "---\n"
   ]
  },
  {
   "cell_type": "markdown",
   "metadata": {
    "papermill": {
     "duration": 0.015126,
     "end_time": "2020-12-14T18:05:11.369056",
     "exception": false,
     "start_time": "2020-12-14T18:05:11.353930",
     "status": "completed"
    },
    "tags": []
   },
   "source": [
    "# Introduction\n",
    "\n",
    "Run the following cell to load your data and some utility functions."
   ]
  },
  {
   "cell_type": "code",
   "execution_count": 1,
   "metadata": {
    "execution": {
     "iopub.execute_input": "2020-12-14T18:05:11.411650Z",
     "iopub.status.busy": "2020-12-14T18:05:11.410847Z",
     "iopub.status.idle": "2020-12-14T18:05:14.295241Z",
     "shell.execute_reply": "2020-12-14T18:05:14.296140Z"
    },
    "papermill": {
     "duration": 2.911705,
     "end_time": "2020-12-14T18:05:14.296326",
     "exception": false,
     "start_time": "2020-12-14T18:05:11.384621",
     "status": "completed"
    },
    "tags": []
   },
   "outputs": [
    {
     "name": "stdout",
     "output_type": "stream",
     "text": [
      "Setup complete.\n"
     ]
    }
   ],
   "source": [
    "import pandas as pd\n",
    "\n",
    "reviews = pd.read_csv(\"../input/wine-reviews/winemag-data-130k-v2.csv\", index_col=0)\n",
    "\n",
    "from learntools.core import binder; binder.bind(globals())\n",
    "from learntools.pandas.data_types_and_missing_data import *\n",
    "print(\"Setup complete.\")"
   ]
  },
  {
   "cell_type": "markdown",
   "metadata": {
    "papermill": {
     "duration": 0.015925,
     "end_time": "2020-12-14T18:05:14.329238",
     "exception": false,
     "start_time": "2020-12-14T18:05:14.313313",
     "status": "completed"
    },
    "tags": []
   },
   "source": [
    "# Exercises"
   ]
  },
  {
   "cell_type": "markdown",
   "metadata": {
    "papermill": {
     "duration": 0.016266,
     "end_time": "2020-12-14T18:05:14.361788",
     "exception": false,
     "start_time": "2020-12-14T18:05:14.345522",
     "status": "completed"
    },
    "tags": []
   },
   "source": [
    "## 1. \n",
    "What is the data type of the `points` column in the dataset?"
   ]
  },
  {
   "cell_type": "code",
   "execution_count": 2,
   "metadata": {
    "execution": {
     "iopub.execute_input": "2020-12-14T18:05:14.402320Z",
     "iopub.status.busy": "2020-12-14T18:05:14.401332Z",
     "iopub.status.idle": "2020-12-14T18:05:14.405384Z",
     "shell.execute_reply": "2020-12-14T18:05:14.405973Z"
    },
    "papermill": {
     "duration": 0.02805,
     "end_time": "2020-12-14T18:05:14.406133",
     "exception": false,
     "start_time": "2020-12-14T18:05:14.378083",
     "status": "completed"
    },
    "tags": []
   },
   "outputs": [
    {
     "data": {
      "text/plain": [
       "dtype('int64')"
      ]
     },
     "execution_count": 2,
     "metadata": {},
     "output_type": "execute_result"
    }
   ],
   "source": [
    "reviews.points.dtype"
   ]
  },
  {
   "cell_type": "code",
   "execution_count": 3,
   "metadata": {
    "execution": {
     "iopub.execute_input": "2020-12-14T18:05:14.446354Z",
     "iopub.status.busy": "2020-12-14T18:05:14.445344Z",
     "iopub.status.idle": "2020-12-14T18:05:14.451839Z",
     "shell.execute_reply": "2020-12-14T18:05:14.451202Z"
    },
    "papermill": {
     "duration": 0.028818,
     "end_time": "2020-12-14T18:05:14.451956",
     "exception": false,
     "start_time": "2020-12-14T18:05:14.423138",
     "status": "completed"
    },
    "tags": []
   },
   "outputs": [
    {
     "data": {
      "application/javascript": [
       "parent.postMessage({\"jupyterEvent\": \"custom.exercise_interaction\", \"data\": {\"outcomeType\": 1, \"valueTowardsCompletion\": 0.25, \"interactionType\": 1, \"questionType\": 1, \"questionId\": \"1_PointsDtype\", \"learnToolsVersion\": \"0.3.4\", \"failureMessage\": \"\", \"exceptionClass\": \"\", \"trace\": \"\"}}, \"*\")"
      ],
      "text/plain": [
       "<IPython.core.display.Javascript object>"
      ]
     },
     "metadata": {},
     "output_type": "display_data"
    },
    {
     "data": {
      "text/markdown": [
       "<span style=\"color:#33cc33\">Correct</span>"
      ],
      "text/plain": [
       "Correct"
      ]
     },
     "metadata": {},
     "output_type": "display_data"
    }
   ],
   "source": [
    "# Your code here\n",
    "dtype = reviews.points.dtype\n",
    "\n",
    "# Check your answer\n",
    "q1.check()"
   ]
  },
  {
   "cell_type": "code",
   "execution_count": 4,
   "metadata": {
    "execution": {
     "iopub.execute_input": "2020-12-14T18:05:14.493192Z",
     "iopub.status.busy": "2020-12-14T18:05:14.492409Z",
     "iopub.status.idle": "2020-12-14T18:05:14.495037Z",
     "shell.execute_reply": "2020-12-14T18:05:14.495584Z"
    },
    "papermill": {
     "duration": 0.0256,
     "end_time": "2020-12-14T18:05:14.495756",
     "exception": false,
     "start_time": "2020-12-14T18:05:14.470156",
     "status": "completed"
    },
    "tags": []
   },
   "outputs": [],
   "source": [
    "#q1.hint()\n",
    "#q1.solution()"
   ]
  },
  {
   "cell_type": "markdown",
   "metadata": {
    "papermill": {
     "duration": 0.018068,
     "end_time": "2020-12-14T18:05:14.533019",
     "exception": false,
     "start_time": "2020-12-14T18:05:14.514951",
     "status": "completed"
    },
    "tags": []
   },
   "source": [
    "## 2. \n",
    "Create a Series from entries in the `points` column, but convert the entries to strings. Hint: strings are `str` in native Python."
   ]
  },
  {
   "cell_type": "code",
   "execution_count": 5,
   "metadata": {
    "execution": {
     "iopub.execute_input": "2020-12-14T18:05:14.760366Z",
     "iopub.status.busy": "2020-12-14T18:05:14.756965Z",
     "iopub.status.idle": "2020-12-14T18:05:14.765084Z",
     "shell.execute_reply": "2020-12-14T18:05:14.764454Z"
    },
    "papermill": {
     "duration": 0.213733,
     "end_time": "2020-12-14T18:05:14.765210",
     "exception": false,
     "start_time": "2020-12-14T18:05:14.551477",
     "status": "completed"
    },
    "tags": []
   },
   "outputs": [
    {
     "data": {
      "text/plain": [
       "0         87\n",
       "1         87\n",
       "2         87\n",
       "3         87\n",
       "4         87\n",
       "          ..\n",
       "129966    90\n",
       "129967    90\n",
       "129968    90\n",
       "129969    90\n",
       "129970    90\n",
       "Name: points, Length: 129971, dtype: object"
      ]
     },
     "execution_count": 5,
     "metadata": {},
     "output_type": "execute_result"
    }
   ],
   "source": [
    "reviews.points.astype('str')"
   ]
  },
  {
   "cell_type": "code",
   "execution_count": 6,
   "metadata": {
    "execution": {
     "iopub.execute_input": "2020-12-14T18:05:14.992593Z",
     "iopub.status.busy": "2020-12-14T18:05:14.991809Z",
     "iopub.status.idle": "2020-12-14T18:05:14.998009Z",
     "shell.execute_reply": "2020-12-14T18:05:14.997343Z"
    },
    "papermill": {
     "duration": 0.213802,
     "end_time": "2020-12-14T18:05:14.998130",
     "exception": false,
     "start_time": "2020-12-14T18:05:14.784328",
     "status": "completed"
    },
    "tags": []
   },
   "outputs": [
    {
     "data": {
      "application/javascript": [
       "parent.postMessage({\"jupyterEvent\": \"custom.exercise_interaction\", \"data\": {\"outcomeType\": 1, \"valueTowardsCompletion\": 0.25, \"interactionType\": 1, \"questionType\": 1, \"questionId\": \"2_StrPoints\", \"learnToolsVersion\": \"0.3.4\", \"failureMessage\": \"\", \"exceptionClass\": \"\", \"trace\": \"\"}}, \"*\")"
      ],
      "text/plain": [
       "<IPython.core.display.Javascript object>"
      ]
     },
     "metadata": {},
     "output_type": "display_data"
    },
    {
     "data": {
      "text/markdown": [
       "<span style=\"color:#33cc33\">Correct</span>"
      ],
      "text/plain": [
       "Correct"
      ]
     },
     "metadata": {},
     "output_type": "display_data"
    }
   ],
   "source": [
    "point_strings = reviews.points.astype('str')\n",
    "\n",
    "# Check your answer\n",
    "q2.check()"
   ]
  },
  {
   "cell_type": "code",
   "execution_count": 7,
   "metadata": {
    "execution": {
     "iopub.execute_input": "2020-12-14T18:05:15.043418Z",
     "iopub.status.busy": "2020-12-14T18:05:15.042691Z",
     "iopub.status.idle": "2020-12-14T18:05:15.045977Z",
     "shell.execute_reply": "2020-12-14T18:05:15.045233Z"
    },
    "papermill": {
     "duration": 0.027555,
     "end_time": "2020-12-14T18:05:15.046097",
     "exception": false,
     "start_time": "2020-12-14T18:05:15.018542",
     "status": "completed"
    },
    "tags": []
   },
   "outputs": [],
   "source": [
    "#q2.hint()\n",
    "#q2.solution()"
   ]
  },
  {
   "cell_type": "markdown",
   "metadata": {
    "papermill": {
     "duration": 0.020267,
     "end_time": "2020-12-14T18:05:15.087032",
     "exception": false,
     "start_time": "2020-12-14T18:05:15.066765",
     "status": "completed"
    },
    "tags": []
   },
   "source": [
    "## 3.\n",
    "Sometimes the price column is null. How many reviews in the dataset are missing a price?"
   ]
  },
  {
   "cell_type": "code",
   "execution_count": 8,
   "metadata": {
    "execution": {
     "iopub.execute_input": "2020-12-14T18:05:15.134546Z",
     "iopub.status.busy": "2020-12-14T18:05:15.133455Z",
     "iopub.status.idle": "2020-12-14T18:05:15.144866Z",
     "shell.execute_reply": "2020-12-14T18:05:15.144292Z"
    },
    "papermill": {
     "duration": 0.037522,
     "end_time": "2020-12-14T18:05:15.144989",
     "exception": false,
     "start_time": "2020-12-14T18:05:15.107467",
     "status": "completed"
    },
    "tags": []
   },
   "outputs": [
    {
     "data": {
      "text/plain": [
       "8996"
      ]
     },
     "execution_count": 8,
     "metadata": {},
     "output_type": "execute_result"
    }
   ],
   "source": [
    "missing = reviews[pd.isnull(reviews.price)]\n",
    "missing_price = len(missing)\n",
    "missing_price\n",
    "\n",
    "# Cute alternative solution: if we sum a boolean series, True is treated as 1 and False as 0\n",
    "#n_missing_prices = reviews.price.isnull().sum()\n",
    "\n",
    "# or equivalently:\n",
    "#n_missing_prices = pd.isnull(reviews.price).sum()"
   ]
  },
  {
   "cell_type": "code",
   "execution_count": 9,
   "metadata": {
    "execution": {
     "iopub.execute_input": "2020-12-14T18:05:15.192767Z",
     "iopub.status.busy": "2020-12-14T18:05:15.192021Z",
     "iopub.status.idle": "2020-12-14T18:05:15.198841Z",
     "shell.execute_reply": "2020-12-14T18:05:15.198217Z"
    },
    "papermill": {
     "duration": 0.032986,
     "end_time": "2020-12-14T18:05:15.198963",
     "exception": false,
     "start_time": "2020-12-14T18:05:15.165977",
     "status": "completed"
    },
    "tags": []
   },
   "outputs": [
    {
     "data": {
      "application/javascript": [
       "parent.postMessage({\"jupyterEvent\": \"custom.exercise_interaction\", \"data\": {\"outcomeType\": 1, \"valueTowardsCompletion\": 0.25, \"interactionType\": 1, \"questionType\": 1, \"questionId\": \"3_CountMissingPrices\", \"learnToolsVersion\": \"0.3.4\", \"failureMessage\": \"\", \"exceptionClass\": \"\", \"trace\": \"\"}}, \"*\")"
      ],
      "text/plain": [
       "<IPython.core.display.Javascript object>"
      ]
     },
     "metadata": {},
     "output_type": "display_data"
    },
    {
     "data": {
      "text/markdown": [
       "<span style=\"color:#33cc33\">Correct</span>"
      ],
      "text/plain": [
       "Correct"
      ]
     },
     "metadata": {},
     "output_type": "display_data"
    }
   ],
   "source": [
    "n_missing_prices = missing_price\n",
    "\n",
    "# Check your answer\n",
    "q3.check()"
   ]
  },
  {
   "cell_type": "code",
   "execution_count": 10,
   "metadata": {
    "execution": {
     "iopub.execute_input": "2020-12-14T18:05:15.249867Z",
     "iopub.status.busy": "2020-12-14T18:05:15.248992Z",
     "iopub.status.idle": "2020-12-14T18:05:15.252197Z",
     "shell.execute_reply": "2020-12-14T18:05:15.251487Z"
    },
    "papermill": {
     "duration": 0.030546,
     "end_time": "2020-12-14T18:05:15.252316",
     "exception": false,
     "start_time": "2020-12-14T18:05:15.221770",
     "status": "completed"
    },
    "tags": []
   },
   "outputs": [],
   "source": [
    "#q3.hint()\n",
    "#q3.solution()"
   ]
  },
  {
   "cell_type": "markdown",
   "metadata": {
    "papermill": {
     "duration": 0.022512,
     "end_time": "2020-12-14T18:05:15.298061",
     "exception": false,
     "start_time": "2020-12-14T18:05:15.275549",
     "status": "completed"
    },
    "tags": []
   },
   "source": [
    "## 4.\n",
    "What are the most common wine-producing regions? Create a Series counting the number of times each value occurs in the `region_1` field. This field is often missing data, so replace missing values with `Unknown`. Sort in descending order.  Your output should look something like this:\n",
    "\n",
    "```\n",
    "Unknown                    21247\n",
    "Napa Valley                 4480\n",
    "                           ...  \n",
    "Bardolino Superiore            1\n",
    "Primitivo del Tarantino        1\n",
    "Name: region_1, Length: 1230, dtype: int64\n",
    "```"
   ]
  },
  {
   "cell_type": "code",
   "execution_count": 11,
   "metadata": {
    "execution": {
     "iopub.execute_input": "2020-12-14T18:05:15.363016Z",
     "iopub.status.busy": "2020-12-14T18:05:15.362252Z",
     "iopub.status.idle": "2020-12-14T18:05:15.407153Z",
     "shell.execute_reply": "2020-12-14T18:05:15.406542Z"
    },
    "papermill": {
     "duration": 0.086054,
     "end_time": "2020-12-14T18:05:15.407272",
     "exception": false,
     "start_time": "2020-12-14T18:05:15.321218",
     "status": "completed"
    },
    "tags": []
   },
   "outputs": [
    {
     "data": {
      "text/plain": [
       "Unknown                         21247\n",
       "Napa Valley                      4480\n",
       "Columbia Valley (WA)             4124\n",
       "Russian River Valley             3091\n",
       "California                       2629\n",
       "                                ...  \n",
       "Tehama County                       1\n",
       "McLaren Vale-Langhorne Creek        1\n",
       "Ohio                                1\n",
       "Napa Valley-Paso Robles             1\n",
       "Loazzolo                            1\n",
       "Name: region_1, Length: 1230, dtype: int64"
      ]
     },
     "execution_count": 11,
     "metadata": {},
     "output_type": "execute_result"
    }
   ],
   "source": [
    "reviews_per_region = reviews.region_1.fillna('Unknown').value_counts().sort_values(ascending=False)\n",
    "reviews_per_region"
   ]
  },
  {
   "cell_type": "code",
   "execution_count": 12,
   "metadata": {
    "execution": {
     "iopub.execute_input": "2020-12-14T18:05:15.472812Z",
     "iopub.status.busy": "2020-12-14T18:05:15.472057Z",
     "iopub.status.idle": "2020-12-14T18:05:15.566698Z",
     "shell.execute_reply": "2020-12-14T18:05:15.567273Z"
    },
    "papermill": {
     "duration": 0.136716,
     "end_time": "2020-12-14T18:05:15.567444",
     "exception": false,
     "start_time": "2020-12-14T18:05:15.430728",
     "status": "completed"
    },
    "tags": []
   },
   "outputs": [
    {
     "data": {
      "application/javascript": [
       "parent.postMessage({\"jupyterEvent\": \"custom.exercise_interaction\", \"data\": {\"outcomeType\": 1, \"valueTowardsCompletion\": 0.25, \"interactionType\": 1, \"questionType\": 2, \"questionId\": \"4_ReviewsPerRegion\", \"learnToolsVersion\": \"0.3.4\", \"failureMessage\": \"\", \"exceptionClass\": \"\", \"trace\": \"\"}}, \"*\")"
      ],
      "text/plain": [
       "<IPython.core.display.Javascript object>"
      ]
     },
     "metadata": {},
     "output_type": "display_data"
    },
    {
     "data": {
      "text/markdown": [
       "<span style=\"color:#33cc33\">Correct</span>"
      ],
      "text/plain": [
       "Correct"
      ]
     },
     "metadata": {},
     "output_type": "display_data"
    }
   ],
   "source": [
    "reviews_per_region = reviews.region_1.fillna('Unknown').value_counts().sort_values(ascending=False)\n",
    "\n",
    "# Check your answer\n",
    "q4.check()"
   ]
  },
  {
   "cell_type": "code",
   "execution_count": 13,
   "metadata": {
    "execution": {
     "iopub.execute_input": "2020-12-14T18:05:15.624488Z",
     "iopub.status.busy": "2020-12-14T18:05:15.623760Z",
     "iopub.status.idle": "2020-12-14T18:05:15.627062Z",
     "shell.execute_reply": "2020-12-14T18:05:15.626339Z"
    },
    "papermill": {
     "duration": 0.032838,
     "end_time": "2020-12-14T18:05:15.627210",
     "exception": false,
     "start_time": "2020-12-14T18:05:15.594372",
     "status": "completed"
    },
    "tags": []
   },
   "outputs": [],
   "source": [
    "#q4.hint()\n",
    "#q4.solution()"
   ]
  },
  {
   "cell_type": "markdown",
   "metadata": {
    "papermill": {
     "duration": 0.025033,
     "end_time": "2020-12-14T18:05:15.677864",
     "exception": false,
     "start_time": "2020-12-14T18:05:15.652831",
     "status": "completed"
    },
    "tags": []
   },
   "source": [
    "# Keep going\n",
    "\n",
    "Move on to **[renaming and combining](https://www.kaggle.com/residentmario/renaming-and-combining)**."
   ]
  },
  {
   "cell_type": "markdown",
   "metadata": {
    "papermill": {
     "duration": 0.025097,
     "end_time": "2020-12-14T18:05:15.729598",
     "exception": false,
     "start_time": "2020-12-14T18:05:15.704501",
     "status": "completed"
    },
    "tags": []
   },
   "source": [
    "---\n",
    "\n",
    "\n",
    "\n",
    "\n",
    "*Have questions or comments? Visit the [Learn Discussion forum](https://www.kaggle.com/learn-forum/161299) to chat with other Learners.*"
   ]
  }
 ],
 "metadata": {
  "kernelspec": {
   "display_name": "Python 3",
   "language": "python",
   "name": "python3"
  },
  "language_info": {
   "codemirror_mode": {
    "name": "ipython",
    "version": 3
   },
   "file_extension": ".py",
   "mimetype": "text/x-python",
   "name": "python",
   "nbconvert_exporter": "python",
   "pygments_lexer": "ipython3",
   "version": "3.7.6"
  },
  "papermill": {
   "duration": 9.657055,
   "end_time": "2020-12-14T18:05:15.862026",
   "environment_variables": {},
   "exception": null,
   "input_path": "__notebook__.ipynb",
   "output_path": "__notebook__.ipynb",
   "parameters": {},
   "start_time": "2020-12-14T18:05:06.204971",
   "version": "2.1.0"
  }
 },
 "nbformat": 4,
 "nbformat_minor": 4
}
