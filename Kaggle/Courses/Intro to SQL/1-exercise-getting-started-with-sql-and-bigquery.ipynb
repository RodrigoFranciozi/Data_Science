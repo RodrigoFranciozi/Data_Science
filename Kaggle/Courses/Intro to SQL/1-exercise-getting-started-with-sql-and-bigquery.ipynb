{
 "cells": [
  {
   "cell_type": "markdown",
   "metadata": {
    "papermill": {
     "duration": 0.017544,
     "end_time": "2020-12-15T17:04:07.881826",
     "exception": false,
     "start_time": "2020-12-15T17:04:07.864282",
     "status": "completed"
    },
    "tags": []
   },
   "source": [
    "**This notebook is an exercise in the [SQL](https://www.kaggle.com/learn/intro-to-sql) course.  You can reference the tutorial at [this link](https://www.kaggle.com/dansbecker/getting-started-with-sql-and-bigquery).**\n",
    "\n",
    "---\n"
   ]
  },
  {
   "cell_type": "markdown",
   "metadata": {
    "papermill": {
     "duration": 0.014453,
     "end_time": "2020-12-15T17:04:07.911113",
     "exception": false,
     "start_time": "2020-12-15T17:04:07.896660",
     "status": "completed"
    },
    "tags": []
   },
   "source": [
    "# Introduction\n",
    "\n",
    "The first test of your new data exploration skills uses data describing crime in the city of Chicago.\n",
    "\n",
    "Before you get started, run the following cell. It sets up the automated feedback system to review your answers."
   ]
  },
  {
   "cell_type": "code",
   "execution_count": 1,
   "metadata": {
    "execution": {
     "iopub.execute_input": "2020-12-15T17:04:07.947918Z",
     "iopub.status.busy": "2020-12-15T17:04:07.947225Z",
     "iopub.status.idle": "2020-12-15T17:04:08.670073Z",
     "shell.execute_reply": "2020-12-15T17:04:08.669261Z"
    },
    "papermill": {
     "duration": 0.744188,
     "end_time": "2020-12-15T17:04:08.670194",
     "exception": false,
     "start_time": "2020-12-15T17:04:07.926006",
     "status": "completed"
    },
    "tags": []
   },
   "outputs": [
    {
     "name": "stdout",
     "output_type": "stream",
     "text": [
      "Using Kaggle's public dataset BigQuery integration.\n",
      "Setup Complete\n"
     ]
    }
   ],
   "source": [
    "# Set up feedack system\n",
    "from learntools.core import binder\n",
    "binder.bind(globals())\n",
    "from learntools.sql.ex1 import *\n",
    "print(\"Setup Complete\")"
   ]
  },
  {
   "cell_type": "markdown",
   "metadata": {
    "papermill": {
     "duration": 0.016274,
     "end_time": "2020-12-15T17:04:08.702805",
     "exception": false,
     "start_time": "2020-12-15T17:04:08.686531",
     "status": "completed"
    },
    "tags": []
   },
   "source": [
    "Use the next code cell to fetch the dataset."
   ]
  },
  {
   "cell_type": "code",
   "execution_count": 2,
   "metadata": {
    "execution": {
     "iopub.execute_input": "2020-12-15T17:04:08.744261Z",
     "iopub.status.busy": "2020-12-15T17:04:08.741764Z",
     "iopub.status.idle": "2020-12-15T17:04:09.065865Z",
     "shell.execute_reply": "2020-12-15T17:04:09.065189Z"
    },
    "papermill": {
     "duration": 0.346601,
     "end_time": "2020-12-15T17:04:09.065991",
     "exception": false,
     "start_time": "2020-12-15T17:04:08.719390",
     "status": "completed"
    },
    "tags": []
   },
   "outputs": [
    {
     "name": "stdout",
     "output_type": "stream",
     "text": [
      "Using Kaggle's public dataset BigQuery integration.\n"
     ]
    }
   ],
   "source": [
    "from google.cloud import bigquery\n",
    "\n",
    "# Create a \"Client\" object\n",
    "client = bigquery.Client()\n",
    "\n",
    "# Construct a reference to the \"chicago_crime\" dataset\n",
    "dataset_ref = client.dataset(\"chicago_crime\", project=\"bigquery-public-data\")\n",
    "\n",
    "# API request - fetch the dataset\n",
    "dataset = client.get_dataset(dataset_ref)"
   ]
  },
  {
   "cell_type": "markdown",
   "metadata": {
    "papermill": {
     "duration": 0.01603,
     "end_time": "2020-12-15T17:04:09.098609",
     "exception": false,
     "start_time": "2020-12-15T17:04:09.082579",
     "status": "completed"
    },
    "tags": []
   },
   "source": [
    "# Exercises\n",
    "\n",
    "### 1) Count tables in the dataset\n",
    "\n",
    "How many tables are in the Chicago Crime dataset?"
   ]
  },
  {
   "cell_type": "code",
   "execution_count": 3,
   "metadata": {
    "execution": {
     "iopub.execute_input": "2020-12-15T17:04:09.139398Z",
     "iopub.status.busy": "2020-12-15T17:04:09.138719Z",
     "iopub.status.idle": "2020-12-15T17:04:09.357980Z",
     "shell.execute_reply": "2020-12-15T17:04:09.357467Z"
    },
    "papermill": {
     "duration": 0.243077,
     "end_time": "2020-12-15T17:04:09.358092",
     "exception": false,
     "start_time": "2020-12-15T17:04:09.115015",
     "status": "completed"
    },
    "tags": []
   },
   "outputs": [
    {
     "name": "stdout",
     "output_type": "stream",
     "text": [
      "crime\n"
     ]
    }
   ],
   "source": [
    "# List all the tables in the \"chicago_crime\" dataset\n",
    "tables = list(client.list_tables(dataset))\n",
    "\n",
    "# Print names of all tables in the dataset\n",
    "for table in tables:  \n",
    "    print(table.table_id)"
   ]
  },
  {
   "cell_type": "code",
   "execution_count": 4,
   "metadata": {
    "execution": {
     "iopub.execute_input": "2020-12-15T17:04:09.396835Z",
     "iopub.status.busy": "2020-12-15T17:04:09.396170Z",
     "iopub.status.idle": "2020-12-15T17:04:09.400155Z",
     "shell.execute_reply": "2020-12-15T17:04:09.399611Z"
    },
    "papermill": {
     "duration": 0.025482,
     "end_time": "2020-12-15T17:04:09.400318",
     "exception": false,
     "start_time": "2020-12-15T17:04:09.374836",
     "status": "completed"
    },
    "tags": []
   },
   "outputs": [
    {
     "name": "stdout",
     "output_type": "stream",
     "text": [
      "1\n"
     ]
    }
   ],
   "source": [
    "print(len(tables))"
   ]
  },
  {
   "cell_type": "code",
   "execution_count": 5,
   "metadata": {
    "execution": {
     "iopub.execute_input": "2020-12-15T17:04:09.441940Z",
     "iopub.status.busy": "2020-12-15T17:04:09.441159Z",
     "iopub.status.idle": "2020-12-15T17:04:09.447746Z",
     "shell.execute_reply": "2020-12-15T17:04:09.447126Z"
    },
    "papermill": {
     "duration": 0.030255,
     "end_time": "2020-12-15T17:04:09.447853",
     "exception": false,
     "start_time": "2020-12-15T17:04:09.417598",
     "status": "completed"
    },
    "tags": []
   },
   "outputs": [
    {
     "data": {
      "application/javascript": [
       "parent.postMessage({\"jupyterEvent\": \"custom.exercise_interaction\", \"data\": {\"outcomeType\": 1, \"valueTowardsCompletion\": 0.3333333333333333, \"interactionType\": 1, \"questionType\": 1, \"questionId\": \"1_CountTables\", \"learnToolsVersion\": \"0.3.4\", \"failureMessage\": \"\", \"exceptionClass\": \"\", \"trace\": \"\"}}, \"*\")"
      ],
      "text/plain": [
       "<IPython.core.display.Javascript object>"
      ]
     },
     "metadata": {},
     "output_type": "display_data"
    },
    {
     "data": {
      "text/markdown": [
       "<span style=\"color:#33cc33\">Correct</span>"
      ],
      "text/plain": [
       "Correct"
      ]
     },
     "metadata": {},
     "output_type": "display_data"
    }
   ],
   "source": [
    "num_tables = 1\n",
    "\n",
    "# Check your answer\n",
    "q_1.check()"
   ]
  },
  {
   "cell_type": "markdown",
   "metadata": {
    "papermill": {
     "duration": 0.01799,
     "end_time": "2020-12-15T17:04:09.484610",
     "exception": false,
     "start_time": "2020-12-15T17:04:09.466620",
     "status": "completed"
    },
    "tags": []
   },
   "source": [
    "For a hint or the solution, uncomment the appropriate line below."
   ]
  },
  {
   "cell_type": "code",
   "execution_count": 6,
   "metadata": {
    "execution": {
     "iopub.execute_input": "2020-12-15T17:04:09.526413Z",
     "iopub.status.busy": "2020-12-15T17:04:09.525597Z",
     "iopub.status.idle": "2020-12-15T17:04:09.528438Z",
     "shell.execute_reply": "2020-12-15T17:04:09.528924Z"
    },
    "papermill": {
     "duration": 0.025759,
     "end_time": "2020-12-15T17:04:09.529086",
     "exception": false,
     "start_time": "2020-12-15T17:04:09.503327",
     "status": "completed"
    },
    "tags": []
   },
   "outputs": [],
   "source": [
    "#q_1.hint()\n",
    "#q_1.solution()"
   ]
  },
  {
   "cell_type": "markdown",
   "metadata": {
    "papermill": {
     "duration": 0.018107,
     "end_time": "2020-12-15T17:04:09.565557",
     "exception": false,
     "start_time": "2020-12-15T17:04:09.547450",
     "status": "completed"
    },
    "tags": []
   },
   "source": [
    "### 2) Explore the table schema\n",
    "\n",
    "How many columns in the `crime` table have `TIMESTAMP` data?"
   ]
  },
  {
   "cell_type": "code",
   "execution_count": 7,
   "metadata": {
    "execution": {
     "iopub.execute_input": "2020-12-15T17:04:09.609372Z",
     "iopub.status.busy": "2020-12-15T17:04:09.608698Z",
     "iopub.status.idle": "2020-12-15T17:04:09.795455Z",
     "shell.execute_reply": "2020-12-15T17:04:09.796051Z"
    },
    "papermill": {
     "duration": 0.212072,
     "end_time": "2020-12-15T17:04:09.796261",
     "exception": false,
     "start_time": "2020-12-15T17:04:09.584189",
     "status": "completed"
    },
    "tags": []
   },
   "outputs": [],
   "source": [
    "# Construct a reference to the \"crime\" table\n",
    "table_ref = dataset_ref.table(\"crime\")\n",
    "\n",
    "# API request - fetch the table\n",
    "table = client.get_table(table_ref)"
   ]
  },
  {
   "cell_type": "code",
   "execution_count": 8,
   "metadata": {
    "execution": {
     "iopub.execute_input": "2020-12-15T17:04:09.839997Z",
     "iopub.status.busy": "2020-12-15T17:04:09.839118Z",
     "iopub.status.idle": "2020-12-15T17:04:09.844094Z",
     "shell.execute_reply": "2020-12-15T17:04:09.844616Z"
    },
    "papermill": {
     "duration": 0.029659,
     "end_time": "2020-12-15T17:04:09.844771",
     "exception": false,
     "start_time": "2020-12-15T17:04:09.815112",
     "status": "completed"
    },
    "tags": []
   },
   "outputs": [
    {
     "data": {
      "text/plain": [
       "[SchemaField('unique_key', 'INTEGER', 'REQUIRED', 'Unique identifier for the record.', ()),\n",
       " SchemaField('case_number', 'STRING', 'NULLABLE', 'The Chicago Police Department RD Number (Records Division Number), which is unique to the incident.', ()),\n",
       " SchemaField('date', 'TIMESTAMP', 'NULLABLE', 'Date when the incident occurred. this is sometimes a best estimate.', ()),\n",
       " SchemaField('block', 'STRING', 'NULLABLE', 'The partially redacted address where the incident occurred, placing it on the same block as the actual address.', ()),\n",
       " SchemaField('iucr', 'STRING', 'NULLABLE', 'The Illinois Unifrom Crime Reporting code. This is directly linked to the Primary Type and Description. See the list of IUCR codes at https://data.cityofchicago.org/d/c7ck-438e.', ()),\n",
       " SchemaField('primary_type', 'STRING', 'NULLABLE', 'The primary description of the IUCR code.', ()),\n",
       " SchemaField('description', 'STRING', 'NULLABLE', 'The secondary description of the IUCR code, a subcategory of the primary description.', ()),\n",
       " SchemaField('location_description', 'STRING', 'NULLABLE', 'Description of the location where the incident occurred.', ()),\n",
       " SchemaField('arrest', 'BOOLEAN', 'NULLABLE', 'Indicates whether an arrest was made.', ()),\n",
       " SchemaField('domestic', 'BOOLEAN', 'NULLABLE', 'Indicates whether the incident was domestic-related as defined by the Illinois Domestic Violence Act.', ()),\n",
       " SchemaField('beat', 'INTEGER', 'NULLABLE', 'Indicates the beat where the incident occurred. A beat is the smallest police geographic area – each beat has a dedicated police beat car. Three to five beats make up a police sector, and three sectors make up a police district. The Chicago Police Department has 22 police districts. See the beats at https://data.cityofchicago.org/d/aerh-rz74.', ()),\n",
       " SchemaField('district', 'INTEGER', 'NULLABLE', 'Indicates the police district where the incident occurred. See the districts at https://data.cityofchicago.org/d/fthy-xz3r.', ()),\n",
       " SchemaField('ward', 'INTEGER', 'NULLABLE', 'The ward (City Council district) where the incident occurred. See the wards at https://data.cityofchicago.org/d/sp34-6z76.', ()),\n",
       " SchemaField('community_area', 'INTEGER', 'NULLABLE', 'Indicates the community area where the incident occurred. Chicago has 77 community areas. See the community areas at https://data.cityofchicago.org/d/cauq-8yn6.', ()),\n",
       " SchemaField('fbi_code', 'STRING', 'NULLABLE', \"Indicates the crime classification as outlined in the FBI's National Incident-Based Reporting System (NIBRS). See the Chicago Police Department listing of these classifications at http://gis.chicagopolice.org/clearmap_crime_sums/crime_types.html.\", ()),\n",
       " SchemaField('x_coordinate', 'FLOAT', 'NULLABLE', 'The x coordinate of the location where the incident occurred in State Plane Illinois East NAD 1983 projection. This location is shifted from the actual location for partial redaction but falls on the same block.', ()),\n",
       " SchemaField('y_coordinate', 'FLOAT', 'NULLABLE', 'The y coordinate of the location where the incident occurred in State Plane Illinois East NAD 1983 projection. This location is shifted from the actual location for partial redaction but falls on the same block.', ()),\n",
       " SchemaField('year', 'INTEGER', 'NULLABLE', 'Year the incident occurred.', ()),\n",
       " SchemaField('updated_on', 'TIMESTAMP', 'NULLABLE', 'Date and time the record was last updated.', ()),\n",
       " SchemaField('latitude', 'FLOAT', 'NULLABLE', 'The latitude of the location where the incident occurred. This location is shifted from the actual location for partial redaction but falls on the same block.', ()),\n",
       " SchemaField('longitude', 'FLOAT', 'NULLABLE', 'The longitude of the location where the incident occurred. This location is shifted from the actual location for partial redaction but falls on the same block.', ()),\n",
       " SchemaField('location', 'STRING', 'NULLABLE', 'The location where the incident occurred in a format that allows for creation of maps and other geographic operations on this data portal. This location is shifted from the actual location for partial redaction but falls on the same block.', ())]"
      ]
     },
     "execution_count": 8,
     "metadata": {},
     "output_type": "execute_result"
    }
   ],
   "source": [
    "table.schema"
   ]
  },
  {
   "cell_type": "code",
   "execution_count": 9,
   "metadata": {
    "execution": {
     "iopub.execute_input": "2020-12-15T17:04:09.888802Z",
     "iopub.status.busy": "2020-12-15T17:04:09.888131Z",
     "iopub.status.idle": "2020-12-15T17:04:09.892507Z",
     "shell.execute_reply": "2020-12-15T17:04:09.893110Z"
    },
    "papermill": {
     "duration": 0.028846,
     "end_time": "2020-12-15T17:04:09.893245",
     "exception": false,
     "start_time": "2020-12-15T17:04:09.864399",
     "status": "completed"
    },
    "tags": []
   },
   "outputs": [
    {
     "data": {
      "application/javascript": [
       "parent.postMessage({\"jupyterEvent\": \"custom.exercise_interaction\", \"data\": {\"outcomeType\": 1, \"valueTowardsCompletion\": 0.3333333333333333, \"interactionType\": 1, \"questionType\": 1, \"questionId\": \"2_CountTimestampFields\", \"learnToolsVersion\": \"0.3.4\", \"failureMessage\": \"\", \"exceptionClass\": \"\", \"trace\": \"\"}}, \"*\")"
      ],
      "text/plain": [
       "<IPython.core.display.Javascript object>"
      ]
     },
     "metadata": {},
     "output_type": "display_data"
    },
    {
     "data": {
      "text/markdown": [
       "<span style=\"color:#33cc33\">Correct</span>"
      ],
      "text/plain": [
       "Correct"
      ]
     },
     "metadata": {},
     "output_type": "display_data"
    }
   ],
   "source": [
    "num_timestamp_fields = 2\n",
    "\n",
    "# Check your answer\n",
    "q_2.check()"
   ]
  },
  {
   "cell_type": "markdown",
   "metadata": {
    "papermill": {
     "duration": 0.020547,
     "end_time": "2020-12-15T17:04:09.934851",
     "exception": false,
     "start_time": "2020-12-15T17:04:09.914304",
     "status": "completed"
    },
    "tags": []
   },
   "source": [
    "For a hint or the solution, uncomment the appropriate line below."
   ]
  },
  {
   "cell_type": "code",
   "execution_count": 10,
   "metadata": {
    "execution": {
     "iopub.execute_input": "2020-12-15T17:04:09.981104Z",
     "iopub.status.busy": "2020-12-15T17:04:09.980421Z",
     "iopub.status.idle": "2020-12-15T17:04:09.982620Z",
     "shell.execute_reply": "2020-12-15T17:04:09.983248Z"
    },
    "papermill": {
     "duration": 0.027603,
     "end_time": "2020-12-15T17:04:09.983386",
     "exception": false,
     "start_time": "2020-12-15T17:04:09.955783",
     "status": "completed"
    },
    "tags": []
   },
   "outputs": [],
   "source": [
    "#q_2.hint()\n",
    "#q_2.solution()"
   ]
  },
  {
   "cell_type": "markdown",
   "metadata": {
    "papermill": {
     "duration": 0.020571,
     "end_time": "2020-12-15T17:04:10.025828",
     "exception": false,
     "start_time": "2020-12-15T17:04:10.005257",
     "status": "completed"
    },
    "tags": []
   },
   "source": [
    "### 3) Create a crime map\n",
    "\n",
    "If you wanted to create a map with a dot at the location of each crime, what are the names of the two fields you likely need to pull out of the `crime` table to plot the crimes on a map?"
   ]
  },
  {
   "cell_type": "code",
   "execution_count": 11,
   "metadata": {
    "execution": {
     "iopub.execute_input": "2020-12-15T17:04:10.070145Z",
     "iopub.status.busy": "2020-12-15T17:04:10.069533Z",
     "iopub.status.idle": "2020-12-15T17:04:10.851575Z",
     "shell.execute_reply": "2020-12-15T17:04:10.851067Z"
    },
    "papermill": {
     "duration": 0.80517,
     "end_time": "2020-12-15T17:04:10.851687",
     "exception": false,
     "start_time": "2020-12-15T17:04:10.046517",
     "status": "completed"
    },
    "tags": []
   },
   "outputs": [
    {
     "data": {
      "text/html": [
       "<div>\n",
       "<style scoped>\n",
       "    .dataframe tbody tr th:only-of-type {\n",
       "        vertical-align: middle;\n",
       "    }\n",
       "\n",
       "    .dataframe tbody tr th {\n",
       "        vertical-align: top;\n",
       "    }\n",
       "\n",
       "    .dataframe thead th {\n",
       "        text-align: right;\n",
       "    }\n",
       "</style>\n",
       "<table border=\"1\" class=\"dataframe\">\n",
       "  <thead>\n",
       "    <tr style=\"text-align: right;\">\n",
       "      <th></th>\n",
       "      <th>unique_key</th>\n",
       "      <th>case_number</th>\n",
       "      <th>date</th>\n",
       "      <th>block</th>\n",
       "      <th>iucr</th>\n",
       "      <th>primary_type</th>\n",
       "      <th>description</th>\n",
       "      <th>location_description</th>\n",
       "      <th>arrest</th>\n",
       "      <th>domestic</th>\n",
       "      <th>...</th>\n",
       "      <th>ward</th>\n",
       "      <th>community_area</th>\n",
       "      <th>fbi_code</th>\n",
       "      <th>x_coordinate</th>\n",
       "      <th>y_coordinate</th>\n",
       "      <th>year</th>\n",
       "      <th>updated_on</th>\n",
       "      <th>latitude</th>\n",
       "      <th>longitude</th>\n",
       "      <th>location</th>\n",
       "    </tr>\n",
       "  </thead>\n",
       "  <tbody>\n",
       "    <tr>\n",
       "      <th>0</th>\n",
       "      <td>10235104</td>\n",
       "      <td>HY420770</td>\n",
       "      <td>2015-09-12 18:00:00+00:00</td>\n",
       "      <td>036XX S WELLS ST</td>\n",
       "      <td>1121</td>\n",
       "      <td>DECEPTIVE PRACTICE</td>\n",
       "      <td>COUNTERFEITING DOCUMENT</td>\n",
       "      <td>STREET</td>\n",
       "      <td>True</td>\n",
       "      <td>False</td>\n",
       "      <td>...</td>\n",
       "      <td>11</td>\n",
       "      <td>34</td>\n",
       "      <td>10</td>\n",
       "      <td>1175216.0</td>\n",
       "      <td>1880819.0</td>\n",
       "      <td>2015</td>\n",
       "      <td>2018-02-10 15:50:01+00:00</td>\n",
       "      <td>41.828348</td>\n",
       "      <td>-87.632651</td>\n",
       "      <td>(41.828347945, -87.632650679)</td>\n",
       "    </tr>\n",
       "    <tr>\n",
       "      <th>1</th>\n",
       "      <td>10237172</td>\n",
       "      <td>HY425171</td>\n",
       "      <td>2015-09-16 01:55:00+00:00</td>\n",
       "      <td>133XX S BALTIMORE AVE</td>\n",
       "      <td>3710</td>\n",
       "      <td>INTERFERENCE WITH PUBLIC OFFICER</td>\n",
       "      <td>RESIST/OBSTRUCT/DISARM OFFICER</td>\n",
       "      <td>SIDEWALK</td>\n",
       "      <td>True</td>\n",
       "      <td>False</td>\n",
       "      <td>...</td>\n",
       "      <td>10</td>\n",
       "      <td>55</td>\n",
       "      <td>24</td>\n",
       "      <td>1199102.0</td>\n",
       "      <td>1817091.0</td>\n",
       "      <td>2015</td>\n",
       "      <td>2018-02-10 15:50:01+00:00</td>\n",
       "      <td>41.652906</td>\n",
       "      <td>-87.547153</td>\n",
       "      <td>(41.652905626, -87.547152913)</td>\n",
       "    </tr>\n",
       "    <tr>\n",
       "      <th>2</th>\n",
       "      <td>10306886</td>\n",
       "      <td>HY495744</td>\n",
       "      <td>2015-11-09 18:00:00+00:00</td>\n",
       "      <td>035XX S COTTAGE GROVE AVE</td>\n",
       "      <td>0330</td>\n",
       "      <td>ROBBERY</td>\n",
       "      <td>AGGRAVATED</td>\n",
       "      <td>STREET</td>\n",
       "      <td>False</td>\n",
       "      <td>False</td>\n",
       "      <td>...</td>\n",
       "      <td>4</td>\n",
       "      <td>36</td>\n",
       "      <td>03</td>\n",
       "      <td>1181286.0</td>\n",
       "      <td>1881718.0</td>\n",
       "      <td>2015</td>\n",
       "      <td>2018-02-10 15:50:01+00:00</td>\n",
       "      <td>41.830677</td>\n",
       "      <td>-87.610353</td>\n",
       "      <td>(41.830676853, -87.610352872)</td>\n",
       "    </tr>\n",
       "    <tr>\n",
       "      <th>3</th>\n",
       "      <td>10322126</td>\n",
       "      <td>HY511845</td>\n",
       "      <td>2015-03-28 11:30:00+00:00</td>\n",
       "      <td>047XX S ARCHER AVE</td>\n",
       "      <td>1121</td>\n",
       "      <td>DECEPTIVE PRACTICE</td>\n",
       "      <td>COUNTERFEITING DOCUMENT</td>\n",
       "      <td>OTHER</td>\n",
       "      <td>False</td>\n",
       "      <td>False</td>\n",
       "      <td>...</td>\n",
       "      <td>14</td>\n",
       "      <td>57</td>\n",
       "      <td>10</td>\n",
       "      <td>1152348.0</td>\n",
       "      <td>1872647.0</td>\n",
       "      <td>2015</td>\n",
       "      <td>2018-02-10 15:50:01+00:00</td>\n",
       "      <td>41.806404</td>\n",
       "      <td>-87.716767</td>\n",
       "      <td>(41.806404031, -87.716766902)</td>\n",
       "    </tr>\n",
       "    <tr>\n",
       "      <th>4</th>\n",
       "      <td>10325398</td>\n",
       "      <td>HY515691</td>\n",
       "      <td>2015-11-25 23:00:00+00:00</td>\n",
       "      <td>033XX S DAMEN AVE</td>\n",
       "      <td>0915</td>\n",
       "      <td>MOTOR VEHICLE THEFT</td>\n",
       "      <td>TRUCK, BUS, MOTOR HOME</td>\n",
       "      <td>PARKING LOT/GARAGE(NON.RESID.)</td>\n",
       "      <td>False</td>\n",
       "      <td>False</td>\n",
       "      <td>...</td>\n",
       "      <td>11</td>\n",
       "      <td>59</td>\n",
       "      <td>07</td>\n",
       "      <td>1163558.0</td>\n",
       "      <td>1882690.0</td>\n",
       "      <td>2015</td>\n",
       "      <td>2018-02-10 15:50:01+00:00</td>\n",
       "      <td>41.833735</td>\n",
       "      <td>-87.675370</td>\n",
       "      <td>(41.833735126, -87.675370229)</td>\n",
       "    </tr>\n",
       "  </tbody>\n",
       "</table>\n",
       "<p>5 rows × 22 columns</p>\n",
       "</div>"
      ],
      "text/plain": [
       "   unique_key case_number                      date  \\\n",
       "0    10235104    HY420770 2015-09-12 18:00:00+00:00   \n",
       "1    10237172    HY425171 2015-09-16 01:55:00+00:00   \n",
       "2    10306886    HY495744 2015-11-09 18:00:00+00:00   \n",
       "3    10322126    HY511845 2015-03-28 11:30:00+00:00   \n",
       "4    10325398    HY515691 2015-11-25 23:00:00+00:00   \n",
       "\n",
       "                       block  iucr                      primary_type  \\\n",
       "0           036XX S WELLS ST  1121                DECEPTIVE PRACTICE   \n",
       "1      133XX S BALTIMORE AVE  3710  INTERFERENCE WITH PUBLIC OFFICER   \n",
       "2  035XX S COTTAGE GROVE AVE  0330                           ROBBERY   \n",
       "3         047XX S ARCHER AVE  1121                DECEPTIVE PRACTICE   \n",
       "4          033XX S DAMEN AVE  0915               MOTOR VEHICLE THEFT   \n",
       "\n",
       "                      description            location_description  arrest  \\\n",
       "0         COUNTERFEITING DOCUMENT                          STREET    True   \n",
       "1  RESIST/OBSTRUCT/DISARM OFFICER                        SIDEWALK    True   \n",
       "2                      AGGRAVATED                          STREET   False   \n",
       "3         COUNTERFEITING DOCUMENT                           OTHER   False   \n",
       "4          TRUCK, BUS, MOTOR HOME  PARKING LOT/GARAGE(NON.RESID.)   False   \n",
       "\n",
       "   domestic  ...  ward  community_area  fbi_code  x_coordinate y_coordinate  \\\n",
       "0     False  ...    11              34        10     1175216.0    1880819.0   \n",
       "1     False  ...    10              55        24     1199102.0    1817091.0   \n",
       "2     False  ...     4              36        03     1181286.0    1881718.0   \n",
       "3     False  ...    14              57        10     1152348.0    1872647.0   \n",
       "4     False  ...    11              59        07     1163558.0    1882690.0   \n",
       "\n",
       "   year                updated_on   latitude  longitude  \\\n",
       "0  2015 2018-02-10 15:50:01+00:00  41.828348 -87.632651   \n",
       "1  2015 2018-02-10 15:50:01+00:00  41.652906 -87.547153   \n",
       "2  2015 2018-02-10 15:50:01+00:00  41.830677 -87.610353   \n",
       "3  2015 2018-02-10 15:50:01+00:00  41.806404 -87.716767   \n",
       "4  2015 2018-02-10 15:50:01+00:00  41.833735 -87.675370   \n",
       "\n",
       "                        location  \n",
       "0  (41.828347945, -87.632650679)  \n",
       "1  (41.652905626, -87.547152913)  \n",
       "2  (41.830676853, -87.610352872)  \n",
       "3  (41.806404031, -87.716766902)  \n",
       "4  (41.833735126, -87.675370229)  \n",
       "\n",
       "[5 rows x 22 columns]"
      ]
     },
     "execution_count": 11,
     "metadata": {},
     "output_type": "execute_result"
    }
   ],
   "source": [
    "# Preview the first five lines of the \"crime\" table\n",
    "client.list_rows(table, max_results=5).to_dataframe()"
   ]
  },
  {
   "cell_type": "code",
   "execution_count": 12,
   "metadata": {
    "execution": {
     "iopub.execute_input": "2020-12-15T17:04:10.901171Z",
     "iopub.status.busy": "2020-12-15T17:04:10.900113Z",
     "iopub.status.idle": "2020-12-15T17:04:10.906750Z",
     "shell.execute_reply": "2020-12-15T17:04:10.906136Z"
    },
    "papermill": {
     "duration": 0.033623,
     "end_time": "2020-12-15T17:04:10.906856",
     "exception": false,
     "start_time": "2020-12-15T17:04:10.873233",
     "status": "completed"
    },
    "tags": []
   },
   "outputs": [
    {
     "data": {
      "application/javascript": [
       "parent.postMessage({\"jupyterEvent\": \"custom.exercise_interaction\", \"data\": {\"outcomeType\": 1, \"valueTowardsCompletion\": 0.3333333333333333, \"interactionType\": 1, \"questionType\": 2, \"questionId\": \"3_IdentifyFieldsForPlotting\", \"learnToolsVersion\": \"0.3.4\", \"failureMessage\": \"\", \"exceptionClass\": \"\", \"trace\": \"\"}}, \"*\")"
      ],
      "text/plain": [
       "<IPython.core.display.Javascript object>"
      ]
     },
     "metadata": {},
     "output_type": "display_data"
    },
    {
     "data": {
      "text/markdown": [
       "<span style=\"color:#33cc33\">Correct</span>"
      ],
      "text/plain": [
       "Correct"
      ]
     },
     "metadata": {},
     "output_type": "display_data"
    }
   ],
   "source": [
    "fields_for_plotting = ['latitude', 'longitude'] \n",
    "\n",
    "# Check your answer\n",
    "q_3.check()"
   ]
  },
  {
   "cell_type": "markdown",
   "metadata": {
    "papermill": {
     "duration": 0.022437,
     "end_time": "2020-12-15T17:04:10.952148",
     "exception": false,
     "start_time": "2020-12-15T17:04:10.929711",
     "status": "completed"
    },
    "tags": []
   },
   "source": [
    "For a hint or the solution, uncomment the appropriate line below."
   ]
  },
  {
   "cell_type": "code",
   "execution_count": 13,
   "metadata": {
    "execution": {
     "iopub.execute_input": "2020-12-15T17:04:11.002808Z",
     "iopub.status.busy": "2020-12-15T17:04:11.001807Z",
     "iopub.status.idle": "2020-12-15T17:04:11.005443Z",
     "shell.execute_reply": "2020-12-15T17:04:11.004803Z"
    },
    "papermill": {
     "duration": 0.030381,
     "end_time": "2020-12-15T17:04:11.005552",
     "exception": false,
     "start_time": "2020-12-15T17:04:10.975171",
     "status": "completed"
    },
    "tags": []
   },
   "outputs": [],
   "source": [
    "#q_3.hint()\n",
    "#q_3.solution()"
   ]
  },
  {
   "cell_type": "markdown",
   "metadata": {
    "papermill": {
     "duration": 0.02269,
     "end_time": "2020-12-15T17:04:11.051343",
     "exception": false,
     "start_time": "2020-12-15T17:04:11.028653",
     "status": "completed"
    },
    "tags": []
   },
   "source": [
    "Thinking about the question above, there are a few columns that appear to have geographic data. Look at a few values (with the `list_rows()` command) to see if you can determine their relationship.  Two columns will still be hard to interpret. But it should be obvious how the `location` column relates to `latitude` and `longitude`.\n",
    "\n",
    "A: Location is basically the latitude + longitude together. "
   ]
  },
  {
   "cell_type": "code",
   "execution_count": 14,
   "metadata": {
    "execution": {
     "iopub.execute_input": "2020-12-15T17:04:11.104646Z",
     "iopub.status.busy": "2020-12-15T17:04:11.103998Z",
     "iopub.status.idle": "2020-12-15T17:04:11.475442Z",
     "shell.execute_reply": "2020-12-15T17:04:11.474827Z"
    },
    "papermill": {
     "duration": 0.401246,
     "end_time": "2020-12-15T17:04:11.475570",
     "exception": false,
     "start_time": "2020-12-15T17:04:11.074324",
     "status": "completed"
    },
    "tags": []
   },
   "outputs": [
    {
     "data": {
      "text/html": [
       "<div>\n",
       "<style scoped>\n",
       "    .dataframe tbody tr th:only-of-type {\n",
       "        vertical-align: middle;\n",
       "    }\n",
       "\n",
       "    .dataframe tbody tr th {\n",
       "        vertical-align: top;\n",
       "    }\n",
       "\n",
       "    .dataframe thead th {\n",
       "        text-align: right;\n",
       "    }\n",
       "</style>\n",
       "<table border=\"1\" class=\"dataframe\">\n",
       "  <thead>\n",
       "    <tr style=\"text-align: right;\">\n",
       "      <th></th>\n",
       "      <th>unique_key</th>\n",
       "      <th>case_number</th>\n",
       "      <th>date</th>\n",
       "      <th>block</th>\n",
       "      <th>iucr</th>\n",
       "      <th>primary_type</th>\n",
       "      <th>description</th>\n",
       "      <th>location_description</th>\n",
       "      <th>arrest</th>\n",
       "      <th>domestic</th>\n",
       "      <th>...</th>\n",
       "      <th>ward</th>\n",
       "      <th>community_area</th>\n",
       "      <th>fbi_code</th>\n",
       "      <th>x_coordinate</th>\n",
       "      <th>y_coordinate</th>\n",
       "      <th>year</th>\n",
       "      <th>updated_on</th>\n",
       "      <th>latitude</th>\n",
       "      <th>longitude</th>\n",
       "      <th>location</th>\n",
       "    </tr>\n",
       "  </thead>\n",
       "  <tbody>\n",
       "    <tr>\n",
       "      <th>0</th>\n",
       "      <td>10235104</td>\n",
       "      <td>HY420770</td>\n",
       "      <td>2015-09-12 18:00:00+00:00</td>\n",
       "      <td>036XX S WELLS ST</td>\n",
       "      <td>1121</td>\n",
       "      <td>DECEPTIVE PRACTICE</td>\n",
       "      <td>COUNTERFEITING DOCUMENT</td>\n",
       "      <td>STREET</td>\n",
       "      <td>True</td>\n",
       "      <td>False</td>\n",
       "      <td>...</td>\n",
       "      <td>11</td>\n",
       "      <td>34</td>\n",
       "      <td>10</td>\n",
       "      <td>1175216.0</td>\n",
       "      <td>1880819.0</td>\n",
       "      <td>2015</td>\n",
       "      <td>2018-02-10 15:50:01+00:00</td>\n",
       "      <td>41.828348</td>\n",
       "      <td>-87.632651</td>\n",
       "      <td>(41.828347945, -87.632650679)</td>\n",
       "    </tr>\n",
       "    <tr>\n",
       "      <th>1</th>\n",
       "      <td>10237172</td>\n",
       "      <td>HY425171</td>\n",
       "      <td>2015-09-16 01:55:00+00:00</td>\n",
       "      <td>133XX S BALTIMORE AVE</td>\n",
       "      <td>3710</td>\n",
       "      <td>INTERFERENCE WITH PUBLIC OFFICER</td>\n",
       "      <td>RESIST/OBSTRUCT/DISARM OFFICER</td>\n",
       "      <td>SIDEWALK</td>\n",
       "      <td>True</td>\n",
       "      <td>False</td>\n",
       "      <td>...</td>\n",
       "      <td>10</td>\n",
       "      <td>55</td>\n",
       "      <td>24</td>\n",
       "      <td>1199102.0</td>\n",
       "      <td>1817091.0</td>\n",
       "      <td>2015</td>\n",
       "      <td>2018-02-10 15:50:01+00:00</td>\n",
       "      <td>41.652906</td>\n",
       "      <td>-87.547153</td>\n",
       "      <td>(41.652905626, -87.547152913)</td>\n",
       "    </tr>\n",
       "    <tr>\n",
       "      <th>2</th>\n",
       "      <td>10306886</td>\n",
       "      <td>HY495744</td>\n",
       "      <td>2015-11-09 18:00:00+00:00</td>\n",
       "      <td>035XX S COTTAGE GROVE AVE</td>\n",
       "      <td>0330</td>\n",
       "      <td>ROBBERY</td>\n",
       "      <td>AGGRAVATED</td>\n",
       "      <td>STREET</td>\n",
       "      <td>False</td>\n",
       "      <td>False</td>\n",
       "      <td>...</td>\n",
       "      <td>4</td>\n",
       "      <td>36</td>\n",
       "      <td>03</td>\n",
       "      <td>1181286.0</td>\n",
       "      <td>1881718.0</td>\n",
       "      <td>2015</td>\n",
       "      <td>2018-02-10 15:50:01+00:00</td>\n",
       "      <td>41.830677</td>\n",
       "      <td>-87.610353</td>\n",
       "      <td>(41.830676853, -87.610352872)</td>\n",
       "    </tr>\n",
       "    <tr>\n",
       "      <th>3</th>\n",
       "      <td>10322126</td>\n",
       "      <td>HY511845</td>\n",
       "      <td>2015-03-28 11:30:00+00:00</td>\n",
       "      <td>047XX S ARCHER AVE</td>\n",
       "      <td>1121</td>\n",
       "      <td>DECEPTIVE PRACTICE</td>\n",
       "      <td>COUNTERFEITING DOCUMENT</td>\n",
       "      <td>OTHER</td>\n",
       "      <td>False</td>\n",
       "      <td>False</td>\n",
       "      <td>...</td>\n",
       "      <td>14</td>\n",
       "      <td>57</td>\n",
       "      <td>10</td>\n",
       "      <td>1152348.0</td>\n",
       "      <td>1872647.0</td>\n",
       "      <td>2015</td>\n",
       "      <td>2018-02-10 15:50:01+00:00</td>\n",
       "      <td>41.806404</td>\n",
       "      <td>-87.716767</td>\n",
       "      <td>(41.806404031, -87.716766902)</td>\n",
       "    </tr>\n",
       "    <tr>\n",
       "      <th>4</th>\n",
       "      <td>10325398</td>\n",
       "      <td>HY515691</td>\n",
       "      <td>2015-11-25 23:00:00+00:00</td>\n",
       "      <td>033XX S DAMEN AVE</td>\n",
       "      <td>0915</td>\n",
       "      <td>MOTOR VEHICLE THEFT</td>\n",
       "      <td>TRUCK, BUS, MOTOR HOME</td>\n",
       "      <td>PARKING LOT/GARAGE(NON.RESID.)</td>\n",
       "      <td>False</td>\n",
       "      <td>False</td>\n",
       "      <td>...</td>\n",
       "      <td>11</td>\n",
       "      <td>59</td>\n",
       "      <td>07</td>\n",
       "      <td>1163558.0</td>\n",
       "      <td>1882690.0</td>\n",
       "      <td>2015</td>\n",
       "      <td>2018-02-10 15:50:01+00:00</td>\n",
       "      <td>41.833735</td>\n",
       "      <td>-87.675370</td>\n",
       "      <td>(41.833735126, -87.675370229)</td>\n",
       "    </tr>\n",
       "  </tbody>\n",
       "</table>\n",
       "<p>5 rows × 22 columns</p>\n",
       "</div>"
      ],
      "text/plain": [
       "   unique_key case_number                      date  \\\n",
       "0    10235104    HY420770 2015-09-12 18:00:00+00:00   \n",
       "1    10237172    HY425171 2015-09-16 01:55:00+00:00   \n",
       "2    10306886    HY495744 2015-11-09 18:00:00+00:00   \n",
       "3    10322126    HY511845 2015-03-28 11:30:00+00:00   \n",
       "4    10325398    HY515691 2015-11-25 23:00:00+00:00   \n",
       "\n",
       "                       block  iucr                      primary_type  \\\n",
       "0           036XX S WELLS ST  1121                DECEPTIVE PRACTICE   \n",
       "1      133XX S BALTIMORE AVE  3710  INTERFERENCE WITH PUBLIC OFFICER   \n",
       "2  035XX S COTTAGE GROVE AVE  0330                           ROBBERY   \n",
       "3         047XX S ARCHER AVE  1121                DECEPTIVE PRACTICE   \n",
       "4          033XX S DAMEN AVE  0915               MOTOR VEHICLE THEFT   \n",
       "\n",
       "                      description            location_description  arrest  \\\n",
       "0         COUNTERFEITING DOCUMENT                          STREET    True   \n",
       "1  RESIST/OBSTRUCT/DISARM OFFICER                        SIDEWALK    True   \n",
       "2                      AGGRAVATED                          STREET   False   \n",
       "3         COUNTERFEITING DOCUMENT                           OTHER   False   \n",
       "4          TRUCK, BUS, MOTOR HOME  PARKING LOT/GARAGE(NON.RESID.)   False   \n",
       "\n",
       "   domestic  ...  ward  community_area  fbi_code  x_coordinate y_coordinate  \\\n",
       "0     False  ...    11              34        10     1175216.0    1880819.0   \n",
       "1     False  ...    10              55        24     1199102.0    1817091.0   \n",
       "2     False  ...     4              36        03     1181286.0    1881718.0   \n",
       "3     False  ...    14              57        10     1152348.0    1872647.0   \n",
       "4     False  ...    11              59        07     1163558.0    1882690.0   \n",
       "\n",
       "   year                updated_on   latitude  longitude  \\\n",
       "0  2015 2018-02-10 15:50:01+00:00  41.828348 -87.632651   \n",
       "1  2015 2018-02-10 15:50:01+00:00  41.652906 -87.547153   \n",
       "2  2015 2018-02-10 15:50:01+00:00  41.830677 -87.610353   \n",
       "3  2015 2018-02-10 15:50:01+00:00  41.806404 -87.716767   \n",
       "4  2015 2018-02-10 15:50:01+00:00  41.833735 -87.675370   \n",
       "\n",
       "                        location  \n",
       "0  (41.828347945, -87.632650679)  \n",
       "1  (41.652905626, -87.547152913)  \n",
       "2  (41.830676853, -87.610352872)  \n",
       "3  (41.806404031, -87.716766902)  \n",
       "4  (41.833735126, -87.675370229)  \n",
       "\n",
       "[5 rows x 22 columns]"
      ]
     },
     "execution_count": 14,
     "metadata": {},
     "output_type": "execute_result"
    }
   ],
   "source": [
    "client.list_rows(table, max_results=5).to_dataframe()"
   ]
  },
  {
   "cell_type": "markdown",
   "metadata": {
    "papermill": {
     "duration": 0.025172,
     "end_time": "2020-12-15T17:04:11.525243",
     "exception": false,
     "start_time": "2020-12-15T17:04:11.500071",
     "status": "completed"
    },
    "tags": []
   },
   "source": [
    "# Keep going\n",
    "\n",
    "You've looked at the schema, but you haven't yet done anything exciting with the data itself. Things get more interesting when you get to the data, so keep going to **[write your first SQL query](https://www.kaggle.com/dansbecker/select-from-where).**"
   ]
  },
  {
   "cell_type": "markdown",
   "metadata": {
    "papermill": {
     "duration": 0.024305,
     "end_time": "2020-12-15T17:04:11.573810",
     "exception": false,
     "start_time": "2020-12-15T17:04:11.549505",
     "status": "completed"
    },
    "tags": []
   },
   "source": [
    "---\n",
    "\n",
    "\n",
    "\n",
    "\n",
    "*Have questions or comments? Visit the [Learn Discussion forum](https://www.kaggle.com/learn-forum/161314) to chat with other Learners.*"
   ]
  }
 ],
 "metadata": {
  "kernelspec": {
   "display_name": "Python 3",
   "language": "python",
   "name": "python3"
  },
  "language_info": {
   "codemirror_mode": {
    "name": "ipython",
    "version": 3
   },
   "file_extension": ".py",
   "mimetype": "text/x-python",
   "name": "python",
   "nbconvert_exporter": "python",
   "pygments_lexer": "ipython3",
   "version": "3.7.6"
  },
  "papermill": {
   "duration": 8.396045,
   "end_time": "2020-12-15T17:04:11.705987",
   "environment_variables": {},
   "exception": null,
   "input_path": "__notebook__.ipynb",
   "output_path": "__notebook__.ipynb",
   "parameters": {},
   "start_time": "2020-12-15T17:04:03.309942",
   "version": "2.1.0"
  }
 },
 "nbformat": 4,
 "nbformat_minor": 4
}
