{
 "cells": [
  {
   "cell_type": "markdown",
   "metadata": {
    "papermill": {
     "duration": 0.018227,
     "end_time": "2020-12-15T19:44:55.486246",
     "exception": false,
     "start_time": "2020-12-15T19:44:55.468019",
     "status": "completed"
    },
    "tags": []
   },
   "source": [
    "**This notebook is an exercise in the [SQL](https://www.kaggle.com/learn/intro-to-sql) course.  You can reference the tutorial at [this link](https://www.kaggle.com/dansbecker/as-with).**\n",
    "\n",
    "---\n"
   ]
  },
  {
   "cell_type": "markdown",
   "metadata": {
    "papermill": {
     "duration": 0.016562,
     "end_time": "2020-12-15T19:44:55.519911",
     "exception": false,
     "start_time": "2020-12-15T19:44:55.503349",
     "status": "completed"
    },
    "tags": []
   },
   "source": [
    "# Introduction\n",
    "\n",
    "You are getting to the point where you can own an analysis from beginning to end. So you'll do more data exploration in this exercise than you've done before.  Before you get started, run the following set-up code as usual. "
   ]
  },
  {
   "cell_type": "code",
   "execution_count": 1,
   "metadata": {
    "execution": {
     "iopub.execute_input": "2020-12-15T19:44:55.561119Z",
     "iopub.status.busy": "2020-12-15T19:44:55.560462Z",
     "iopub.status.idle": "2020-12-15T19:44:58.942188Z",
     "shell.execute_reply": "2020-12-15T19:44:58.942767Z"
    },
    "papermill": {
     "duration": 3.406088,
     "end_time": "2020-12-15T19:44:58.942952",
     "exception": false,
     "start_time": "2020-12-15T19:44:55.536864",
     "status": "completed"
    },
    "tags": []
   },
   "outputs": [
    {
     "name": "stdout",
     "output_type": "stream",
     "text": [
      "Using Kaggle's public dataset BigQuery integration.\n",
      "Setup Complete\n"
     ]
    }
   ],
   "source": [
    "# Set up feedback system\n",
    "from learntools.core import binder\n",
    "binder.bind(globals())\n",
    "from learntools.sql.ex5 import *\n",
    "print(\"Setup Complete\")"
   ]
  },
  {
   "cell_type": "markdown",
   "metadata": {
    "papermill": {
     "duration": 0.018457,
     "end_time": "2020-12-15T19:44:58.980856",
     "exception": false,
     "start_time": "2020-12-15T19:44:58.962399",
     "status": "completed"
    },
    "tags": []
   },
   "source": [
    "You'll work with a dataset about taxi trips in the city of Chicago. Run the cell below to fetch the `chicago_taxi_trips` dataset."
   ]
  },
  {
   "cell_type": "code",
   "execution_count": 2,
   "metadata": {
    "execution": {
     "iopub.execute_input": "2020-12-15T19:44:59.029124Z",
     "iopub.status.busy": "2020-12-15T19:44:59.025106Z",
     "iopub.status.idle": "2020-12-15T19:44:59.286279Z",
     "shell.execute_reply": "2020-12-15T19:44:59.285695Z"
    },
    "papermill": {
     "duration": 0.286746,
     "end_time": "2020-12-15T19:44:59.286422",
     "exception": false,
     "start_time": "2020-12-15T19:44:58.999676",
     "status": "completed"
    },
    "tags": []
   },
   "outputs": [
    {
     "name": "stdout",
     "output_type": "stream",
     "text": [
      "Using Kaggle's public dataset BigQuery integration.\n"
     ]
    }
   ],
   "source": [
    "from google.cloud import bigquery\n",
    "\n",
    "# Create a \"Client\" object\n",
    "client = bigquery.Client()\n",
    "\n",
    "# Construct a reference to the \"chicago_taxi_trips\" dataset\n",
    "dataset_ref = client.dataset(\"chicago_taxi_trips\", project=\"bigquery-public-data\")\n",
    "\n",
    "# API request - fetch the dataset\n",
    "dataset = client.get_dataset(dataset_ref)"
   ]
  },
  {
   "cell_type": "markdown",
   "metadata": {
    "papermill": {
     "duration": 0.018728,
     "end_time": "2020-12-15T19:44:59.324200",
     "exception": false,
     "start_time": "2020-12-15T19:44:59.305472",
     "status": "completed"
    },
    "tags": []
   },
   "source": [
    "# Exercises\n",
    "\n",
    "You are curious how much slower traffic moves when traffic volume is high. This involves a few steps.\n",
    "\n",
    "### 1) Find the data\n",
    "Before you can access the data, you need to find the table name with the data.\n",
    "\n",
    "*Hint*: Tab completion is helpful whenever you can't remember a command. Type `client.` and then hit the tab key. Don't forget the period before hitting tab."
   ]
  },
  {
   "cell_type": "code",
   "execution_count": 3,
   "metadata": {
    "execution": {
     "iopub.execute_input": "2020-12-15T19:44:59.369258Z",
     "iopub.status.busy": "2020-12-15T19:44:59.368418Z",
     "iopub.status.idle": "2020-12-15T19:44:59.724335Z",
     "shell.execute_reply": "2020-12-15T19:44:59.724808Z"
    },
    "papermill": {
     "duration": 0.381746,
     "end_time": "2020-12-15T19:44:59.724951",
     "exception": false,
     "start_time": "2020-12-15T19:44:59.343205",
     "status": "completed"
    },
    "tags": []
   },
   "outputs": [
    {
     "name": "stdout",
     "output_type": "stream",
     "text": [
      "taxi_trips\n"
     ]
    }
   ],
   "source": [
    "tables = list(client.list_tables(dataset))\n",
    "\n",
    "for table in tables:\n",
    "    print(table.table_id)"
   ]
  },
  {
   "cell_type": "code",
   "execution_count": 4,
   "metadata": {
    "execution": {
     "iopub.execute_input": "2020-12-15T19:44:59.771585Z",
     "iopub.status.busy": "2020-12-15T19:44:59.770624Z",
     "iopub.status.idle": "2020-12-15T19:44:59.777587Z",
     "shell.execute_reply": "2020-12-15T19:44:59.778057Z"
    },
    "papermill": {
     "duration": 0.034137,
     "end_time": "2020-12-15T19:44:59.778202",
     "exception": false,
     "start_time": "2020-12-15T19:44:59.744065",
     "status": "completed"
    },
    "tags": []
   },
   "outputs": [
    {
     "data": {
      "application/javascript": [
       "parent.postMessage({\"jupyterEvent\": \"custom.exercise_interaction\", \"data\": {\"outcomeType\": 1, \"valueTowardsCompletion\": 0.16666666666666666, \"interactionType\": 1, \"questionType\": 1, \"questionId\": \"1_GetTableName\", \"learnToolsVersion\": \"0.3.4\", \"failureMessage\": \"\", \"exceptionClass\": \"\", \"trace\": \"\"}}, \"*\")"
      ],
      "text/plain": [
       "<IPython.core.display.Javascript object>"
      ]
     },
     "metadata": {},
     "output_type": "display_data"
    },
    {
     "data": {
      "text/markdown": [
       "<span style=\"color:#33cc33\">Correct</span>"
      ],
      "text/plain": [
       "Correct"
      ]
     },
     "metadata": {},
     "output_type": "display_data"
    }
   ],
   "source": [
    "# Write the table name as a string below\n",
    "table_name = 'taxi_trips'\n",
    "\n",
    "# Check your answer\n",
    "q_1.check()"
   ]
  },
  {
   "cell_type": "markdown",
   "metadata": {
    "papermill": {
     "duration": 0.020177,
     "end_time": "2020-12-15T19:44:59.818877",
     "exception": false,
     "start_time": "2020-12-15T19:44:59.798700",
     "status": "completed"
    },
    "tags": []
   },
   "source": [
    "For the solution, uncomment the line below."
   ]
  },
  {
   "cell_type": "code",
   "execution_count": 5,
   "metadata": {
    "execution": {
     "iopub.execute_input": "2020-12-15T19:44:59.864620Z",
     "iopub.status.busy": "2020-12-15T19:44:59.863982Z",
     "iopub.status.idle": "2020-12-15T19:44:59.867682Z",
     "shell.execute_reply": "2020-12-15T19:44:59.867043Z"
    },
    "papermill": {
     "duration": 0.028306,
     "end_time": "2020-12-15T19:44:59.867788",
     "exception": false,
     "start_time": "2020-12-15T19:44:59.839482",
     "status": "completed"
    },
    "tags": []
   },
   "outputs": [],
   "source": [
    "#q_1.solution()"
   ]
  },
  {
   "cell_type": "markdown",
   "metadata": {
    "papermill": {
     "duration": 0.020198,
     "end_time": "2020-12-15T19:44:59.908674",
     "exception": false,
     "start_time": "2020-12-15T19:44:59.888476",
     "status": "completed"
    },
    "tags": []
   },
   "source": [
    "### 2) Peek at the data\n",
    "\n",
    "Use the next code cell to peek at the top few rows of the data. Inspect the data and see if any issues with data quality are immediately obvious. "
   ]
  },
  {
   "cell_type": "code",
   "execution_count": 6,
   "metadata": {
    "execution": {
     "iopub.execute_input": "2020-12-15T19:44:59.959337Z",
     "iopub.status.busy": "2020-12-15T19:44:59.958661Z",
     "iopub.status.idle": "2020-12-15T19:45:00.172068Z",
     "shell.execute_reply": "2020-12-15T19:45:00.171336Z"
    },
    "papermill": {
     "duration": 0.240777,
     "end_time": "2020-12-15T19:45:00.172207",
     "exception": false,
     "start_time": "2020-12-15T19:44:59.931430",
     "status": "completed"
    },
    "tags": []
   },
   "outputs": [],
   "source": [
    "# Construct a reference to the \"taxi_trips\" table\n",
    "table_ref = dataset_ref.table(\"taxi_trips\")\n",
    "\n",
    "# API request - fetch the table\n",
    "table = client.get_table(table_ref)"
   ]
  },
  {
   "cell_type": "code",
   "execution_count": 7,
   "metadata": {
    "execution": {
     "iopub.execute_input": "2020-12-15T19:45:00.241695Z",
     "iopub.status.busy": "2020-12-15T19:45:00.240858Z",
     "iopub.status.idle": "2020-12-15T19:45:01.038552Z",
     "shell.execute_reply": "2020-12-15T19:45:01.037970Z"
    },
    "papermill": {
     "duration": 0.835246,
     "end_time": "2020-12-15T19:45:01.038661",
     "exception": false,
     "start_time": "2020-12-15T19:45:00.203415",
     "status": "completed"
    },
    "tags": []
   },
   "outputs": [
    {
     "data": {
      "text/html": [
       "<div>\n",
       "<style scoped>\n",
       "    .dataframe tbody tr th:only-of-type {\n",
       "        vertical-align: middle;\n",
       "    }\n",
       "\n",
       "    .dataframe tbody tr th {\n",
       "        vertical-align: top;\n",
       "    }\n",
       "\n",
       "    .dataframe thead th {\n",
       "        text-align: right;\n",
       "    }\n",
       "</style>\n",
       "<table border=\"1\" class=\"dataframe\">\n",
       "  <thead>\n",
       "    <tr style=\"text-align: right;\">\n",
       "      <th></th>\n",
       "      <th>unique_key</th>\n",
       "      <th>taxi_id</th>\n",
       "      <th>trip_start_timestamp</th>\n",
       "      <th>trip_end_timestamp</th>\n",
       "      <th>trip_seconds</th>\n",
       "      <th>trip_miles</th>\n",
       "      <th>pickup_census_tract</th>\n",
       "      <th>dropoff_census_tract</th>\n",
       "      <th>pickup_community_area</th>\n",
       "      <th>dropoff_community_area</th>\n",
       "      <th>...</th>\n",
       "      <th>extras</th>\n",
       "      <th>trip_total</th>\n",
       "      <th>payment_type</th>\n",
       "      <th>company</th>\n",
       "      <th>pickup_latitude</th>\n",
       "      <th>pickup_longitude</th>\n",
       "      <th>pickup_location</th>\n",
       "      <th>dropoff_latitude</th>\n",
       "      <th>dropoff_longitude</th>\n",
       "      <th>dropoff_location</th>\n",
       "    </tr>\n",
       "  </thead>\n",
       "  <tbody>\n",
       "    <tr>\n",
       "      <th>0</th>\n",
       "      <td>285fad7a53021661527cb357220f76c30e605770</td>\n",
       "      <td>455b6b5cae6ca5a17cddd251485f2266d13d6a2c92f07c...</td>\n",
       "      <td>2013-08-02 10:15:00+00:00</td>\n",
       "      <td>2013-08-02 10:30:00+00:00</td>\n",
       "      <td>840</td>\n",
       "      <td>3.40</td>\n",
       "      <td>None</td>\n",
       "      <td>None</td>\n",
       "      <td>14</td>\n",
       "      <td>None</td>\n",
       "      <td>...</td>\n",
       "      <td>0.0</td>\n",
       "      <td>11.05</td>\n",
       "      <td>Cash</td>\n",
       "      <td>None</td>\n",
       "      <td>41.968069</td>\n",
       "      <td>-87.721559</td>\n",
       "      <td>POINT (-87.7215590627 41.968069)</td>\n",
       "      <td>None</td>\n",
       "      <td>None</td>\n",
       "      <td>None</td>\n",
       "    </tr>\n",
       "    <tr>\n",
       "      <th>1</th>\n",
       "      <td>2ab4bdd9622c2b80ea5585b0a6eb42db798ece85</td>\n",
       "      <td>8c1af0983bb43246ff0afee514decca8c8a1e5295b7937...</td>\n",
       "      <td>2013-07-18 13:00:00+00:00</td>\n",
       "      <td>2013-07-18 13:30:00+00:00</td>\n",
       "      <td>1080</td>\n",
       "      <td>0.89</td>\n",
       "      <td>None</td>\n",
       "      <td>None</td>\n",
       "      <td>14</td>\n",
       "      <td>None</td>\n",
       "      <td>...</td>\n",
       "      <td>1.0</td>\n",
       "      <td>25.98</td>\n",
       "      <td>Credit Card</td>\n",
       "      <td>None</td>\n",
       "      <td>41.968069</td>\n",
       "      <td>-87.721559</td>\n",
       "      <td>POINT (-87.7215590627 41.968069)</td>\n",
       "      <td>None</td>\n",
       "      <td>None</td>\n",
       "      <td>None</td>\n",
       "    </tr>\n",
       "    <tr>\n",
       "      <th>2</th>\n",
       "      <td>60b8903925da004bec6977459b2df831d41aad41</td>\n",
       "      <td>44c4d610e9975f12e4667a42761f382ad05400f7198ece...</td>\n",
       "      <td>2013-08-19 18:00:00+00:00</td>\n",
       "      <td>2013-08-19 18:30:00+00:00</td>\n",
       "      <td>1920</td>\n",
       "      <td>7.40</td>\n",
       "      <td>None</td>\n",
       "      <td>None</td>\n",
       "      <td>14</td>\n",
       "      <td>None</td>\n",
       "      <td>...</td>\n",
       "      <td>6.5</td>\n",
       "      <td>32.58</td>\n",
       "      <td>Credit Card</td>\n",
       "      <td>None</td>\n",
       "      <td>41.968069</td>\n",
       "      <td>-87.721559</td>\n",
       "      <td>POINT (-87.7215590627 41.968069)</td>\n",
       "      <td>None</td>\n",
       "      <td>None</td>\n",
       "      <td>None</td>\n",
       "    </tr>\n",
       "    <tr>\n",
       "      <th>3</th>\n",
       "      <td>bc3dd1dda74873c287976a32ec81cee886559a10</td>\n",
       "      <td>b1931345de471dbddb452f82e7d09ba6046580412b1501...</td>\n",
       "      <td>2013-08-21 21:45:00+00:00</td>\n",
       "      <td>2013-08-21 22:00:00+00:00</td>\n",
       "      <td>840</td>\n",
       "      <td>4.00</td>\n",
       "      <td>None</td>\n",
       "      <td>None</td>\n",
       "      <td>14</td>\n",
       "      <td>None</td>\n",
       "      <td>...</td>\n",
       "      <td>0.0</td>\n",
       "      <td>12.05</td>\n",
       "      <td>Cash</td>\n",
       "      <td>None</td>\n",
       "      <td>41.968069</td>\n",
       "      <td>-87.721559</td>\n",
       "      <td>POINT (-87.7215590627 41.968069)</td>\n",
       "      <td>None</td>\n",
       "      <td>None</td>\n",
       "      <td>None</td>\n",
       "    </tr>\n",
       "    <tr>\n",
       "      <th>4</th>\n",
       "      <td>3f93acd82011e28d93be17e6ea9771e744447fe2</td>\n",
       "      <td>1d8661cf286a18a5105e132056c2aadf0b81a551e440fe...</td>\n",
       "      <td>2013-08-27 21:30:00+00:00</td>\n",
       "      <td>2013-08-27 22:30:00+00:00</td>\n",
       "      <td>3600</td>\n",
       "      <td>24.20</td>\n",
       "      <td>None</td>\n",
       "      <td>None</td>\n",
       "      <td>14</td>\n",
       "      <td>None</td>\n",
       "      <td>...</td>\n",
       "      <td>1.0</td>\n",
       "      <td>53.25</td>\n",
       "      <td>Cash</td>\n",
       "      <td>None</td>\n",
       "      <td>41.968069</td>\n",
       "      <td>-87.721559</td>\n",
       "      <td>POINT (-87.7215590627 41.968069)</td>\n",
       "      <td>None</td>\n",
       "      <td>None</td>\n",
       "      <td>None</td>\n",
       "    </tr>\n",
       "  </tbody>\n",
       "</table>\n",
       "<p>5 rows × 23 columns</p>\n",
       "</div>"
      ],
      "text/plain": [
       "                                 unique_key  \\\n",
       "0  285fad7a53021661527cb357220f76c30e605770   \n",
       "1  2ab4bdd9622c2b80ea5585b0a6eb42db798ece85   \n",
       "2  60b8903925da004bec6977459b2df831d41aad41   \n",
       "3  bc3dd1dda74873c287976a32ec81cee886559a10   \n",
       "4  3f93acd82011e28d93be17e6ea9771e744447fe2   \n",
       "\n",
       "                                             taxi_id  \\\n",
       "0  455b6b5cae6ca5a17cddd251485f2266d13d6a2c92f07c...   \n",
       "1  8c1af0983bb43246ff0afee514decca8c8a1e5295b7937...   \n",
       "2  44c4d610e9975f12e4667a42761f382ad05400f7198ece...   \n",
       "3  b1931345de471dbddb452f82e7d09ba6046580412b1501...   \n",
       "4  1d8661cf286a18a5105e132056c2aadf0b81a551e440fe...   \n",
       "\n",
       "       trip_start_timestamp        trip_end_timestamp  trip_seconds  \\\n",
       "0 2013-08-02 10:15:00+00:00 2013-08-02 10:30:00+00:00           840   \n",
       "1 2013-07-18 13:00:00+00:00 2013-07-18 13:30:00+00:00          1080   \n",
       "2 2013-08-19 18:00:00+00:00 2013-08-19 18:30:00+00:00          1920   \n",
       "3 2013-08-21 21:45:00+00:00 2013-08-21 22:00:00+00:00           840   \n",
       "4 2013-08-27 21:30:00+00:00 2013-08-27 22:30:00+00:00          3600   \n",
       "\n",
       "   trip_miles pickup_census_tract dropoff_census_tract  pickup_community_area  \\\n",
       "0        3.40                None                 None                     14   \n",
       "1        0.89                None                 None                     14   \n",
       "2        7.40                None                 None                     14   \n",
       "3        4.00                None                 None                     14   \n",
       "4       24.20                None                 None                     14   \n",
       "\n",
       "  dropoff_community_area  ...  extras  trip_total  payment_type  company  \\\n",
       "0                   None  ...     0.0       11.05          Cash     None   \n",
       "1                   None  ...     1.0       25.98   Credit Card     None   \n",
       "2                   None  ...     6.5       32.58   Credit Card     None   \n",
       "3                   None  ...     0.0       12.05          Cash     None   \n",
       "4                   None  ...     1.0       53.25          Cash     None   \n",
       "\n",
       "   pickup_latitude pickup_longitude                   pickup_location  \\\n",
       "0        41.968069       -87.721559  POINT (-87.7215590627 41.968069)   \n",
       "1        41.968069       -87.721559  POINT (-87.7215590627 41.968069)   \n",
       "2        41.968069       -87.721559  POINT (-87.7215590627 41.968069)   \n",
       "3        41.968069       -87.721559  POINT (-87.7215590627 41.968069)   \n",
       "4        41.968069       -87.721559  POINT (-87.7215590627 41.968069)   \n",
       "\n",
       "   dropoff_latitude  dropoff_longitude dropoff_location  \n",
       "0              None               None             None  \n",
       "1              None               None             None  \n",
       "2              None               None             None  \n",
       "3              None               None             None  \n",
       "4              None               None             None  \n",
       "\n",
       "[5 rows x 23 columns]"
      ]
     },
     "execution_count": 7,
     "metadata": {},
     "output_type": "execute_result"
    }
   ],
   "source": [
    "client.list_rows(table, max_results=5).to_dataframe()"
   ]
  },
  {
   "cell_type": "markdown",
   "metadata": {
    "papermill": {
     "duration": 0.033219,
     "end_time": "2020-12-15T19:45:01.094693",
     "exception": false,
     "start_time": "2020-12-15T19:45:01.061474",
     "status": "completed"
    },
    "tags": []
   },
   "source": [
    "We have some columns with \"None\", this might be a problem if we want to use them."
   ]
  },
  {
   "cell_type": "markdown",
   "metadata": {
    "papermill": {
     "duration": 0.031824,
     "end_time": "2020-12-15T19:45:01.161194",
     "exception": false,
     "start_time": "2020-12-15T19:45:01.129370",
     "status": "completed"
    },
    "tags": []
   },
   "source": [
    "After deciding whether you see any important issues, run the code cell below."
   ]
  },
  {
   "cell_type": "code",
   "execution_count": 8,
   "metadata": {
    "execution": {
     "iopub.execute_input": "2020-12-15T19:45:01.239373Z",
     "iopub.status.busy": "2020-12-15T19:45:01.238223Z",
     "iopub.status.idle": "2020-12-15T19:45:01.246741Z",
     "shell.execute_reply": "2020-12-15T19:45:01.245773Z"
    },
    "papermill": {
     "duration": 0.047744,
     "end_time": "2020-12-15T19:45:01.246900",
     "exception": false,
     "start_time": "2020-12-15T19:45:01.199156",
     "status": "completed"
    },
    "tags": []
   },
   "outputs": [
    {
     "data": {
      "application/javascript": [
       "parent.postMessage({\"jupyterEvent\": \"custom.exercise_interaction\", \"data\": {\"interactionType\": 3, \"questionType\": 4, \"questionId\": \"2_WhatsWrongWithData\", \"learnToolsVersion\": \"0.3.4\", \"valueTowardsCompletion\": 0.0, \"failureMessage\": \"\", \"exceptionClass\": \"\", \"trace\": \"\", \"outcomeType\": 4}}, \"*\")"
      ],
      "text/plain": [
       "<IPython.core.display.Javascript object>"
      ]
     },
     "metadata": {},
     "output_type": "display_data"
    },
    {
     "data": {
      "text/markdown": [
       "<span style=\"color:#33cc99\">Solution:</span> \n",
       "You can see the data by calling: \n",
       "```python\n",
       "# Construct a reference to the \"taxi_trips\" table\n",
       "table_ref = dataset_ref.table(\"taxi_trips\")\n",
       "\n",
       "# API request - fetch the table\n",
       "table = client.get_table(table_ref)\n",
       "\n",
       "# Preview the first five lines of the \"taxi_trips\" table\n",
       "client.list_rows(table, max_results=5).to_dataframe()\n",
       "```\n",
       "\n",
       "Some trips in the top few rows have `trip_seconds` or `trip_miles` values of 0. \n",
       "Other location fields have values of `None`. That is a problem if we want to use those fields.\n"
      ],
      "text/plain": [
       "Solution: \n",
       "You can see the data by calling: \n",
       "```python\n",
       "# Construct a reference to the \"taxi_trips\" table\n",
       "table_ref = dataset_ref.table(\"taxi_trips\")\n",
       "\n",
       "# API request - fetch the table\n",
       "table = client.get_table(table_ref)\n",
       "\n",
       "# Preview the first five lines of the \"taxi_trips\" table\n",
       "client.list_rows(table, max_results=5).to_dataframe()\n",
       "```\n",
       "\n",
       "Some trips in the top few rows have `trip_seconds` or `trip_miles` values of 0. \n",
       "Other location fields have values of `None`. That is a problem if we want to use those fields."
      ]
     },
     "metadata": {},
     "output_type": "display_data"
    }
   ],
   "source": [
    "# Check your answer (Run this code cell to receive credit!)\n",
    "q_2.solution()"
   ]
  },
  {
   "cell_type": "markdown",
   "metadata": {
    "papermill": {
     "duration": 0.040074,
     "end_time": "2020-12-15T19:45:01.322489",
     "exception": false,
     "start_time": "2020-12-15T19:45:01.282415",
     "status": "completed"
    },
    "tags": []
   },
   "source": [
    "### 3) Determine when this data is from\n",
    "\n",
    "If the data is sufficiently old, we might be careful before assuming the data is still relevant to traffic patterns today. Write a query that counts the number of trips in each year.  \n",
    "\n",
    "Your results should have two columns:\n",
    "- `year` - the year of the trips\n",
    "- `num_trips` - the number of trips in that year\n",
    "\n",
    "Hints:\n",
    "- When using **GROUP BY** and **ORDER BY**, you should refer to the columns by the alias `year` that you set at the top of the **SELECT** query.\n",
    "- The SQL code to **SELECT** the year from `trip_start_timestamp` is <code>SELECT EXTRACT(YEAR FROM trip_start_timestamp)</code>\n",
    "- The **FROM** field can be a little tricky until you are used to it.  The format is:\n",
    "    1. A backick (the symbol \\`).\n",
    "    2. The project name. In this case it is `bigquery-public-data`.\n",
    "    3. A period.\n",
    "    4. The dataset name. In this case, it is `chicago_taxi_trips`.\n",
    "    5. A period.\n",
    "    6. The table name. You used this as your answer in **1) Find the data**.\n",
    "    7. A backtick (the symbol \\`)."
   ]
  },
  {
   "cell_type": "code",
   "execution_count": 9,
   "metadata": {
    "execution": {
     "iopub.execute_input": "2020-12-15T19:45:01.377085Z",
     "iopub.status.busy": "2020-12-15T19:45:01.376428Z",
     "iopub.status.idle": "2020-12-15T19:45:02.432519Z",
     "shell.execute_reply": "2020-12-15T19:45:02.431794Z"
    },
    "papermill": {
     "duration": 1.087183,
     "end_time": "2020-12-15T19:45:02.432646",
     "exception": false,
     "start_time": "2020-12-15T19:45:01.345463",
     "status": "completed"
    },
    "tags": []
   },
   "outputs": [
    {
     "name": "stdout",
     "output_type": "stream",
     "text": [
      "   num_trips  year\n",
      "0    3739963  2020\n",
      "1   16477365  2019\n",
      "2   20732088  2018\n",
      "3   24988003  2017\n",
      "4   31759339  2016\n",
      "5   32385875  2015\n",
      "6   37395436  2014\n",
      "7   27217716  2013\n"
     ]
    },
    {
     "data": {
      "application/javascript": [
       "parent.postMessage({\"jupyterEvent\": \"custom.exercise_interaction\", \"data\": {\"outcomeType\": 1, \"valueTowardsCompletion\": 0.16666666666666666, \"interactionType\": 1, \"questionType\": 2, \"questionId\": \"3_YearDistrib\", \"learnToolsVersion\": \"0.3.4\", \"failureMessage\": \"\", \"exceptionClass\": \"\", \"trace\": \"\"}}, \"*\")"
      ],
      "text/plain": [
       "<IPython.core.display.Javascript object>"
      ]
     },
     "metadata": {},
     "output_type": "display_data"
    },
    {
     "data": {
      "text/markdown": [
       "<span style=\"color:#33cc33\">Correct</span>"
      ],
      "text/plain": [
       "Correct"
      ]
     },
     "metadata": {},
     "output_type": "display_data"
    }
   ],
   "source": [
    "# Your code goes here\n",
    "rides_per_year_query = \"\"\"\n",
    "SELECT COUNT(1) AS num_trips, EXTRACT(year FROM trip_start_timestamp) AS year\n",
    "FROM `bigquery-public-data.chicago_taxi_trips.taxi_trips`\n",
    "GROUP BY year\n",
    "ORDER BY year DESC\n",
    "\"\"\"\n",
    "\n",
    "# Set up the query (cancel the query if it would use too much of \n",
    "# your quota)\n",
    "safe_config = bigquery.QueryJobConfig(maximum_bytes_billed=10**10)\n",
    "rides_per_year_query_job =  client.query(rides_per_year_query, job_config = safe_config)# Your code goes here\n",
    "\n",
    "# API request - run the query, and return a pandas DataFrame\n",
    "rides_per_year_result = rides_per_year_query_job.to_dataframe()# Your code goes here\n",
    "\n",
    "# View results\n",
    "print(rides_per_year_result)\n",
    "\n",
    "# Check your answer\n",
    "q_3.check()"
   ]
  },
  {
   "cell_type": "markdown",
   "metadata": {
    "papermill": {
     "duration": 0.025059,
     "end_time": "2020-12-15T19:45:02.483723",
     "exception": false,
     "start_time": "2020-12-15T19:45:02.458664",
     "status": "completed"
    },
    "tags": []
   },
   "source": [
    "For a hint or the solution, uncomment the appropriate line below."
   ]
  },
  {
   "cell_type": "code",
   "execution_count": 10,
   "metadata": {
    "execution": {
     "iopub.execute_input": "2020-12-15T19:45:02.539335Z",
     "iopub.status.busy": "2020-12-15T19:45:02.538683Z",
     "iopub.status.idle": "2020-12-15T19:45:02.542209Z",
     "shell.execute_reply": "2020-12-15T19:45:02.541710Z"
    },
    "papermill": {
     "duration": 0.033053,
     "end_time": "2020-12-15T19:45:02.542337",
     "exception": false,
     "start_time": "2020-12-15T19:45:02.509284",
     "status": "completed"
    },
    "tags": []
   },
   "outputs": [],
   "source": [
    "#q_3.hint()\n",
    "#q_3.solution()"
   ]
  },
  {
   "cell_type": "markdown",
   "metadata": {
    "papermill": {
     "duration": 0.024087,
     "end_time": "2020-12-15T19:45:02.591219",
     "exception": false,
     "start_time": "2020-12-15T19:45:02.567132",
     "status": "completed"
    },
    "tags": []
   },
   "source": [
    "### 4) Dive slightly deeper\n",
    "\n",
    "You'd like to take a closer look at rides from 2017.  Copy the query you used above in `rides_per_year_query` into the cell below for `rides_per_month_query`.  Then modify it in two ways:\n",
    "1. Use a **WHERE** clause to limit the query to data from 2017.\n",
    "2. Modify the query to extract the month rather than the year."
   ]
  },
  {
   "cell_type": "code",
   "execution_count": 11,
   "metadata": {
    "execution": {
     "iopub.execute_input": "2020-12-15T19:45:02.651259Z",
     "iopub.status.busy": "2020-12-15T19:45:02.650600Z",
     "iopub.status.idle": "2020-12-15T19:45:03.659804Z",
     "shell.execute_reply": "2020-12-15T19:45:03.658405Z"
    },
    "papermill": {
     "duration": 1.043981,
     "end_time": "2020-12-15T19:45:03.659971",
     "exception": false,
     "start_time": "2020-12-15T19:45:02.615990",
     "status": "completed"
    },
    "tags": []
   },
   "outputs": [
    {
     "name": "stdout",
     "output_type": "stream",
     "text": [
      "    month  num_trips\n",
      "0       1    1972071\n",
      "1       2    1909802\n",
      "2       3    2362105\n",
      "3       4    2194702\n",
      "4       5    2323386\n",
      "5       6    2324472\n",
      "6       7    2054299\n",
      "7       8    2079861\n",
      "8       9    1950631\n",
      "9      10    2141197\n",
      "10     11    1907997\n",
      "11     12    1767480\n"
     ]
    },
    {
     "data": {
      "application/javascript": [
       "parent.postMessage({\"jupyterEvent\": \"custom.exercise_interaction\", \"data\": {\"outcomeType\": 1, \"valueTowardsCompletion\": 0.16666666666666666, \"interactionType\": 1, \"questionType\": 2, \"questionId\": \"4_MonthDistrib\", \"learnToolsVersion\": \"0.3.4\", \"failureMessage\": \"\", \"exceptionClass\": \"\", \"trace\": \"\"}}, \"*\")"
      ],
      "text/plain": [
       "<IPython.core.display.Javascript object>"
      ]
     },
     "metadata": {},
     "output_type": "display_data"
    },
    {
     "data": {
      "text/markdown": [
       "<span style=\"color:#33cc33\">Correct</span>"
      ],
      "text/plain": [
       "Correct"
      ]
     },
     "metadata": {},
     "output_type": "display_data"
    }
   ],
   "source": [
    "# Your code goes here\n",
    "rides_per_month_query = \"\"\"\n",
    "SELECT EXTRACT(MONTH FROM trip_start_timestamp) AS month, COUNT(1) AS num_trips\n",
    "FROM `bigquery-public-data.chicago_taxi_trips.taxi_trips`\n",
    "WHERE EXTRACT(YEAR FROM trip_start_timestamp) = 2017\n",
    "GROUP BY month\n",
    "ORDER BY month\n",
    "\"\"\"\n",
    "\n",
    "# Set up the query\n",
    "safe_config = bigquery.QueryJobConfig(maximum_bytes_billed=10**10)\n",
    "rides_per_month_query_job = client.query(rides_per_month_query, job_config = safe_config) \n",
    "\n",
    "# API request - run the query, and return a pandas DataFrame\n",
    "rides_per_month_result = rides_per_month_query_job.to_dataframe()\n",
    "\n",
    "# View results\n",
    "print(rides_per_month_result)\n",
    "\n",
    "# Check your answer\n",
    "q_4.check()"
   ]
  },
  {
   "cell_type": "markdown",
   "metadata": {
    "papermill": {
     "duration": 0.039527,
     "end_time": "2020-12-15T19:45:03.738529",
     "exception": false,
     "start_time": "2020-12-15T19:45:03.699002",
     "status": "completed"
    },
    "tags": []
   },
   "source": [
    "For a hint or the solution, uncomment the appropriate line below."
   ]
  },
  {
   "cell_type": "code",
   "execution_count": 12,
   "metadata": {
    "execution": {
     "iopub.execute_input": "2020-12-15T19:45:03.822083Z",
     "iopub.status.busy": "2020-12-15T19:45:03.821411Z",
     "iopub.status.idle": "2020-12-15T19:45:03.824627Z",
     "shell.execute_reply": "2020-12-15T19:45:03.825094Z"
    },
    "papermill": {
     "duration": 0.047135,
     "end_time": "2020-12-15T19:45:03.825236",
     "exception": false,
     "start_time": "2020-12-15T19:45:03.778101",
     "status": "completed"
    },
    "tags": []
   },
   "outputs": [],
   "source": [
    "#q_4.hint()\n",
    "#q_4.solution()"
   ]
  },
  {
   "cell_type": "markdown",
   "metadata": {
    "papermill": {
     "duration": 0.026049,
     "end_time": "2020-12-15T19:45:03.878555",
     "exception": false,
     "start_time": "2020-12-15T19:45:03.852506",
     "status": "completed"
    },
    "tags": []
   },
   "source": [
    "### 5) Write the query\n",
    "\n",
    "It's time to step up the sophistication of your queries.  Write a query that shows, for each hour of the day in the dataset, the corresponding number of trips and average speed.\n",
    "\n",
    "Your results should have three columns:\n",
    "- `hour_of_day` - sort by this column, which holds the result of extracting the hour from `trip_start_timestamp`.\n",
    "- `num_trips` - the count of the total number of trips in each hour of the day (e.g. how many trips were started between 6AM and 7AM, independent of which day it occurred on).\n",
    "- `avg_mph` - the average speed, measured in miles per hour, for trips that started in that hour of the day.  Average speed in miles per hour is calculated as `3600 * SUM(trip_miles) / SUM(trip_seconds)`. (The value 3600 is used to convert from seconds to hours.)\n",
    "\n",
    "Restrict your query to data meeting the following criteria:\n",
    "- a `trip_start_timestamp` between **2017-01-01** and **2017-07-01**\n",
    "- `trip_seconds` > 0 and `trip_miles` > 0\n",
    "\n",
    "You will use a common table expression (CTE) to select just the relevant rides.  Because this dataset is very big, this CTE should select only the columns you'll need to create the final output (though you won't actually create those in the CTE -- instead you'll create those in the later **SELECT** statement below the CTE).\n",
    "\n",
    "This is a much harder query than anything you've written so far.  Good luck!"
   ]
  },
  {
   "cell_type": "code",
   "execution_count": 13,
   "metadata": {
    "execution": {
     "iopub.execute_input": "2020-12-15T19:45:03.942750Z",
     "iopub.status.busy": "2020-12-15T19:45:03.942100Z",
     "iopub.status.idle": "2020-12-15T19:45:05.048406Z",
     "shell.execute_reply": "2020-12-15T19:45:05.047517Z"
    },
    "papermill": {
     "duration": 1.143442,
     "end_time": "2020-12-15T19:45:05.048573",
     "exception": false,
     "start_time": "2020-12-15T19:45:03.905131",
     "status": "completed"
    },
    "tags": []
   },
   "outputs": [
    {
     "name": "stdout",
     "output_type": "stream",
     "text": [
      "      avg_mph  hour_of_day  num_trips\n",
      "0   20.230524            0     319339\n",
      "1   18.937621            1     266529\n",
      "2   18.777070            2     210147\n",
      "3   20.158048            3     159668\n",
      "4   26.736014            4     122183\n",
      "5   30.769172            5     119312\n",
      "6   24.588313            6     182738\n",
      "7   17.735967            7     358406\n",
      "8   15.079892            8     541775\n",
      "9   16.543882            9     565548\n",
      "10  18.539614           10     525120\n",
      "11  18.928379           11     594603\n",
      "12  17.838745           12     622324\n",
      "13  17.671089           13     630181\n",
      "14  16.974239           14     622465\n",
      "15  15.688418           15     640430\n",
      "16  14.283888           16     701435\n",
      "17  12.462955           17     756627\n",
      "18  13.646810           18     768251\n",
      "19  16.642882           19     701064\n",
      "20  19.536777           20     598614\n",
      "21  20.433874           21     552726\n",
      "22  19.531374           22     501095\n",
      "23  19.877046           23     399587\n"
     ]
    },
    {
     "data": {
      "application/javascript": [
       "parent.postMessage({\"jupyterEvent\": \"custom.exercise_interaction\", \"data\": {\"outcomeType\": 1, \"valueTowardsCompletion\": 0.16666666666666666, \"interactionType\": 1, \"questionType\": 2, \"questionId\": \"5_TheLongQuery\", \"learnToolsVersion\": \"0.3.4\", \"failureMessage\": \"\", \"exceptionClass\": \"\", \"trace\": \"\"}}, \"*\")"
      ],
      "text/plain": [
       "<IPython.core.display.Javascript object>"
      ]
     },
     "metadata": {},
     "output_type": "display_data"
    },
    {
     "data": {
      "text/markdown": [
       "<span style=\"color:#33cc33\">Correct</span>"
      ],
      "text/plain": [
       "Correct"
      ]
     },
     "metadata": {},
     "output_type": "display_data"
    }
   ],
   "source": [
    "# Your code goes here\n",
    "speeds_query = \"\"\"\n",
    "               WITH RelevantRides AS\n",
    "               (\n",
    "                   SELECT trip_start_timestamp, trip_miles, trip_seconds\n",
    "                   FROM `bigquery-public-data.chicago_taxi_trips.taxi_trips`\n",
    "                   WHERE trip_start_timestamp > '2017-01-01' and trip_start_timestamp < '2017-07-01' \n",
    "                   and trip_seconds > 0 \n",
    "                   and trip_miles > 0\n",
    "               )\n",
    "               SELECT (3600 * SUM(trip_miles) / SUM(trip_seconds)) AS avg_mph, \n",
    "               EXTRACT (HOUR from trip_start_timestamp) as hour_of_day, COUNT(1) as num_trips\n",
    "               FROM RelevantRides\n",
    "               GROUP BY hour_of_day\n",
    "               ORDER BY hour_of_day\n",
    "               \"\"\"\n",
    "\n",
    "# Set up the query\n",
    "safe_config = bigquery.QueryJobConfig(maximum_bytes_billed=10**10)\n",
    "speeds_query_job = client.query(speeds_query, job_config = safe_config) \n",
    "\n",
    "# API request - run the query, and return a pandas DataFrame\n",
    "speeds_result = speeds_query_job.to_dataframe()\n",
    "\n",
    "# View results\n",
    "print(speeds_result)\n",
    "\n",
    "# Check your answer\n",
    "q_5.check()"
   ]
  },
  {
   "cell_type": "markdown",
   "metadata": {
    "papermill": {
     "duration": 0.028306,
     "end_time": "2020-12-15T19:45:05.105248",
     "exception": false,
     "start_time": "2020-12-15T19:45:05.076942",
     "status": "completed"
    },
    "tags": []
   },
   "source": [
    "For the solution, uncomment the appropriate line below."
   ]
  },
  {
   "cell_type": "code",
   "execution_count": 14,
   "metadata": {
    "execution": {
     "iopub.execute_input": "2020-12-15T19:45:05.167560Z",
     "iopub.status.busy": "2020-12-15T19:45:05.166695Z",
     "iopub.status.idle": "2020-12-15T19:45:05.169958Z",
     "shell.execute_reply": "2020-12-15T19:45:05.169102Z"
    },
    "papermill": {
     "duration": 0.036684,
     "end_time": "2020-12-15T19:45:05.170089",
     "exception": false,
     "start_time": "2020-12-15T19:45:05.133405",
     "status": "completed"
    },
    "tags": []
   },
   "outputs": [],
   "source": [
    "#q_5.solution()"
   ]
  },
  {
   "cell_type": "markdown",
   "metadata": {
    "papermill": {
     "duration": 0.041325,
     "end_time": "2020-12-15T19:45:05.253182",
     "exception": false,
     "start_time": "2020-12-15T19:45:05.211857",
     "status": "completed"
    },
    "tags": []
   },
   "source": [
    "That's a hard query. If you made good progress towards the solution, congratulations!"
   ]
  },
  {
   "cell_type": "markdown",
   "metadata": {
    "papermill": {
     "duration": 0.041324,
     "end_time": "2020-12-15T19:45:05.336097",
     "exception": false,
     "start_time": "2020-12-15T19:45:05.294773",
     "status": "completed"
    },
    "tags": []
   },
   "source": [
    "# Keep going\n",
    "\n",
    "You can write very complex queries now with a single data source. But nothing expands the horizons of SQL as much as the ability to combine or **JOIN** tables.\n",
    "\n",
    "**[Click here](https://www.kaggle.com/dansbecker/joining-data)** to start the last lesson in the Intro to SQL micro-course."
   ]
  },
  {
   "cell_type": "markdown",
   "metadata": {
    "papermill": {
     "duration": 0.037194,
     "end_time": "2020-12-15T19:45:05.415141",
     "exception": false,
     "start_time": "2020-12-15T19:45:05.377947",
     "status": "completed"
    },
    "tags": []
   },
   "source": [
    "---\n",
    "\n",
    "\n",
    "\n",
    "\n",
    "*Have questions or comments? Visit the [Learn Discussion forum](https://www.kaggle.com/learn-forum/161314) to chat with other Learners.*"
   ]
  }
 ],
 "metadata": {
  "kernelspec": {
   "display_name": "Python 3",
   "language": "python",
   "name": "python3"
  },
  "language_info": {
   "codemirror_mode": {
    "name": "ipython",
    "version": 3
   },
   "file_extension": ".py",
   "mimetype": "text/x-python",
   "name": "python",
   "nbconvert_exporter": "python",
   "pygments_lexer": "ipython3",
   "version": "3.7.6"
  },
  "papermill": {
   "duration": 14.78901,
   "end_time": "2020-12-15T19:45:05.554918",
   "environment_variables": {},
   "exception": null,
   "input_path": "__notebook__.ipynb",
   "output_path": "__notebook__.ipynb",
   "parameters": {},
   "start_time": "2020-12-15T19:44:50.765908",
   "version": "2.1.0"
  }
 },
 "nbformat": 4,
 "nbformat_minor": 4
}
